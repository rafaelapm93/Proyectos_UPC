{
  "nbformat": 4,
  "nbformat_minor": 0,
  "metadata": {
    "colab": {
      "name": "Assigment_CNN.ipynb",
      "provenance": [],
      "collapsed_sections": []
    },
    "kernelspec": {
      "name": "python3",
      "display_name": "Python 3"
    },
    "language_info": {
      "name": "python"
    },
    "accelerator": "GPU",
    "widgets": {
      "application/vnd.jupyter.widget-state+json": {
        "b34f630b91474e12a762a889d47ea530": {
          "model_module": "@jupyter-widgets/controls",
          "model_name": "HBoxModel",
          "model_module_version": "1.5.0",
          "state": {
            "_view_name": "HBoxView",
            "_dom_classes": [],
            "_model_name": "HBoxModel",
            "_view_module": "@jupyter-widgets/controls",
            "_model_module_version": "1.5.0",
            "_view_count": null,
            "_view_module_version": "1.5.0",
            "box_style": "",
            "layout": "IPY_MODEL_8f50c237be1f40ea807d78453836594d",
            "_model_module": "@jupyter-widgets/controls",
            "children": [
              "IPY_MODEL_7a7205ef16524bea9bd1b8700130e565",
              "IPY_MODEL_608c346ef8534a7385b47ffeab8bef7c",
              "IPY_MODEL_097d395ba8b64499a679ba4ac87cf400"
            ]
          }
        },
        "8f50c237be1f40ea807d78453836594d": {
          "model_module": "@jupyter-widgets/base",
          "model_name": "LayoutModel",
          "model_module_version": "1.2.0",
          "state": {
            "_view_name": "LayoutView",
            "grid_template_rows": null,
            "right": null,
            "justify_content": null,
            "_view_module": "@jupyter-widgets/base",
            "overflow": null,
            "_model_module_version": "1.2.0",
            "_view_count": null,
            "flex_flow": null,
            "width": null,
            "min_width": null,
            "border": null,
            "align_items": null,
            "bottom": null,
            "_model_module": "@jupyter-widgets/base",
            "top": null,
            "grid_column": null,
            "overflow_y": null,
            "overflow_x": null,
            "grid_auto_flow": null,
            "grid_area": null,
            "grid_template_columns": null,
            "flex": null,
            "_model_name": "LayoutModel",
            "justify_items": null,
            "grid_row": null,
            "max_height": null,
            "align_content": null,
            "visibility": null,
            "align_self": null,
            "height": null,
            "min_height": null,
            "padding": null,
            "grid_auto_rows": null,
            "grid_gap": null,
            "max_width": null,
            "order": null,
            "_view_module_version": "1.2.0",
            "grid_template_areas": null,
            "object_position": null,
            "object_fit": null,
            "grid_auto_columns": null,
            "margin": null,
            "display": null,
            "left": null
          }
        },
        "7a7205ef16524bea9bd1b8700130e565": {
          "model_module": "@jupyter-widgets/controls",
          "model_name": "HTMLModel",
          "model_module_version": "1.5.0",
          "state": {
            "_view_name": "HTMLView",
            "style": "IPY_MODEL_2eb2c60cddb7420f8e9e2e167667c691",
            "_dom_classes": [],
            "description": "",
            "_model_name": "HTMLModel",
            "placeholder": "​",
            "_view_module": "@jupyter-widgets/controls",
            "_model_module_version": "1.5.0",
            "value": "",
            "_view_count": null,
            "_view_module_version": "1.5.0",
            "description_tooltip": null,
            "_model_module": "@jupyter-widgets/controls",
            "layout": "IPY_MODEL_46dc28ea88664b64b45abe84e197b109"
          }
        },
        "608c346ef8534a7385b47ffeab8bef7c": {
          "model_module": "@jupyter-widgets/controls",
          "model_name": "FloatProgressModel",
          "model_module_version": "1.5.0",
          "state": {
            "_view_name": "ProgressView",
            "style": "IPY_MODEL_3627dcea57b34ad291704beb5c784535",
            "_dom_classes": [],
            "description": "",
            "_model_name": "FloatProgressModel",
            "bar_style": "success",
            "max": 170498071,
            "_view_module": "@jupyter-widgets/controls",
            "_model_module_version": "1.5.0",
            "value": 170498071,
            "_view_count": null,
            "_view_module_version": "1.5.0",
            "orientation": "horizontal",
            "min": 0,
            "description_tooltip": null,
            "_model_module": "@jupyter-widgets/controls",
            "layout": "IPY_MODEL_72d0154622fd421d854f669b1597909d"
          }
        },
        "097d395ba8b64499a679ba4ac87cf400": {
          "model_module": "@jupyter-widgets/controls",
          "model_name": "HTMLModel",
          "model_module_version": "1.5.0",
          "state": {
            "_view_name": "HTMLView",
            "style": "IPY_MODEL_c047178ad3e34b6dbb36e13f4d238017",
            "_dom_classes": [],
            "description": "",
            "_model_name": "HTMLModel",
            "placeholder": "​",
            "_view_module": "@jupyter-widgets/controls",
            "_model_module_version": "1.5.0",
            "value": " 170499072/? [00:12&lt;00:00, 18698903.53it/s]",
            "_view_count": null,
            "_view_module_version": "1.5.0",
            "description_tooltip": null,
            "_model_module": "@jupyter-widgets/controls",
            "layout": "IPY_MODEL_39d7be37eb554b1a950aeaef1b0d64de"
          }
        },
        "2eb2c60cddb7420f8e9e2e167667c691": {
          "model_module": "@jupyter-widgets/controls",
          "model_name": "DescriptionStyleModel",
          "model_module_version": "1.5.0",
          "state": {
            "_view_name": "StyleView",
            "_model_name": "DescriptionStyleModel",
            "description_width": "",
            "_view_module": "@jupyter-widgets/base",
            "_model_module_version": "1.5.0",
            "_view_count": null,
            "_view_module_version": "1.2.0",
            "_model_module": "@jupyter-widgets/controls"
          }
        },
        "46dc28ea88664b64b45abe84e197b109": {
          "model_module": "@jupyter-widgets/base",
          "model_name": "LayoutModel",
          "model_module_version": "1.2.0",
          "state": {
            "_view_name": "LayoutView",
            "grid_template_rows": null,
            "right": null,
            "justify_content": null,
            "_view_module": "@jupyter-widgets/base",
            "overflow": null,
            "_model_module_version": "1.2.0",
            "_view_count": null,
            "flex_flow": null,
            "width": null,
            "min_width": null,
            "border": null,
            "align_items": null,
            "bottom": null,
            "_model_module": "@jupyter-widgets/base",
            "top": null,
            "grid_column": null,
            "overflow_y": null,
            "overflow_x": null,
            "grid_auto_flow": null,
            "grid_area": null,
            "grid_template_columns": null,
            "flex": null,
            "_model_name": "LayoutModel",
            "justify_items": null,
            "grid_row": null,
            "max_height": null,
            "align_content": null,
            "visibility": null,
            "align_self": null,
            "height": null,
            "min_height": null,
            "padding": null,
            "grid_auto_rows": null,
            "grid_gap": null,
            "max_width": null,
            "order": null,
            "_view_module_version": "1.2.0",
            "grid_template_areas": null,
            "object_position": null,
            "object_fit": null,
            "grid_auto_columns": null,
            "margin": null,
            "display": null,
            "left": null
          }
        },
        "3627dcea57b34ad291704beb5c784535": {
          "model_module": "@jupyter-widgets/controls",
          "model_name": "ProgressStyleModel",
          "model_module_version": "1.5.0",
          "state": {
            "_view_name": "StyleView",
            "_model_name": "ProgressStyleModel",
            "description_width": "",
            "_view_module": "@jupyter-widgets/base",
            "_model_module_version": "1.5.0",
            "_view_count": null,
            "_view_module_version": "1.2.0",
            "bar_color": null,
            "_model_module": "@jupyter-widgets/controls"
          }
        },
        "72d0154622fd421d854f669b1597909d": {
          "model_module": "@jupyter-widgets/base",
          "model_name": "LayoutModel",
          "model_module_version": "1.2.0",
          "state": {
            "_view_name": "LayoutView",
            "grid_template_rows": null,
            "right": null,
            "justify_content": null,
            "_view_module": "@jupyter-widgets/base",
            "overflow": null,
            "_model_module_version": "1.2.0",
            "_view_count": null,
            "flex_flow": null,
            "width": null,
            "min_width": null,
            "border": null,
            "align_items": null,
            "bottom": null,
            "_model_module": "@jupyter-widgets/base",
            "top": null,
            "grid_column": null,
            "overflow_y": null,
            "overflow_x": null,
            "grid_auto_flow": null,
            "grid_area": null,
            "grid_template_columns": null,
            "flex": null,
            "_model_name": "LayoutModel",
            "justify_items": null,
            "grid_row": null,
            "max_height": null,
            "align_content": null,
            "visibility": null,
            "align_self": null,
            "height": null,
            "min_height": null,
            "padding": null,
            "grid_auto_rows": null,
            "grid_gap": null,
            "max_width": null,
            "order": null,
            "_view_module_version": "1.2.0",
            "grid_template_areas": null,
            "object_position": null,
            "object_fit": null,
            "grid_auto_columns": null,
            "margin": null,
            "display": null,
            "left": null
          }
        },
        "c047178ad3e34b6dbb36e13f4d238017": {
          "model_module": "@jupyter-widgets/controls",
          "model_name": "DescriptionStyleModel",
          "model_module_version": "1.5.0",
          "state": {
            "_view_name": "StyleView",
            "_model_name": "DescriptionStyleModel",
            "description_width": "",
            "_view_module": "@jupyter-widgets/base",
            "_model_module_version": "1.5.0",
            "_view_count": null,
            "_view_module_version": "1.2.0",
            "_model_module": "@jupyter-widgets/controls"
          }
        },
        "39d7be37eb554b1a950aeaef1b0d64de": {
          "model_module": "@jupyter-widgets/base",
          "model_name": "LayoutModel",
          "model_module_version": "1.2.0",
          "state": {
            "_view_name": "LayoutView",
            "grid_template_rows": null,
            "right": null,
            "justify_content": null,
            "_view_module": "@jupyter-widgets/base",
            "overflow": null,
            "_model_module_version": "1.2.0",
            "_view_count": null,
            "flex_flow": null,
            "width": null,
            "min_width": null,
            "border": null,
            "align_items": null,
            "bottom": null,
            "_model_module": "@jupyter-widgets/base",
            "top": null,
            "grid_column": null,
            "overflow_y": null,
            "overflow_x": null,
            "grid_auto_flow": null,
            "grid_area": null,
            "grid_template_columns": null,
            "flex": null,
            "_model_name": "LayoutModel",
            "justify_items": null,
            "grid_row": null,
            "max_height": null,
            "align_content": null,
            "visibility": null,
            "align_self": null,
            "height": null,
            "min_height": null,
            "padding": null,
            "grid_auto_rows": null,
            "grid_gap": null,
            "max_width": null,
            "order": null,
            "_view_module_version": "1.2.0",
            "grid_template_areas": null,
            "object_position": null,
            "object_fit": null,
            "grid_auto_columns": null,
            "margin": null,
            "display": null,
            "left": null
          }
        }
      }
    }
  },
  "cells": [
    {
      "cell_type": "code",
      "metadata": {
        "colab": {
          "base_uri": "https://localhost:8080/"
        },
        "id": "gn0qhLo_Pwrt",
        "outputId": "4c93ca15-fb0d-4f6a-d923-4b9357ca38ad"
      },
      "source": [
        "!pip install torch\n",
        "\n",
        "!python -m pip install -U pip\n",
        "\n",
        "!python -m pip install -U scikit-image\n",
        "\n"
      ],
      "execution_count": null,
      "outputs": [
        {
          "output_type": "stream",
          "name": "stdout",
          "text": [
            "Requirement already satisfied: torch in /usr/local/lib/python3.7/dist-packages (1.10.0+cu111)\n",
            "Requirement already satisfied: typing-extensions in /usr/local/lib/python3.7/dist-packages (from torch) (3.10.0.2)\n",
            "\u001b[33mWARNING: Running pip as the 'root' user can result in broken permissions and conflicting behaviour with the system package manager. It is recommended to use a virtual environment instead: https://pip.pypa.io/warnings/venv\u001b[0m\n",
            "Requirement already satisfied: pip in /usr/local/lib/python3.7/dist-packages (21.3.1)\n",
            "\u001b[33mWARNING: Running pip as the 'root' user can result in broken permissions and conflicting behaviour with the system package manager. It is recommended to use a virtual environment instead: https://pip.pypa.io/warnings/venv\u001b[0m\n",
            "Requirement already satisfied: scikit-image in /usr/local/lib/python3.7/dist-packages (0.18.3)\n",
            "Requirement already satisfied: imageio>=2.3.0 in /usr/local/lib/python3.7/dist-packages (from scikit-image) (2.4.1)\n",
            "Requirement already satisfied: PyWavelets>=1.1.1 in /usr/local/lib/python3.7/dist-packages (from scikit-image) (1.2.0)\n",
            "Requirement already satisfied: tifffile>=2019.7.26 in /usr/local/lib/python3.7/dist-packages (from scikit-image) (2021.11.2)\n",
            "Requirement already satisfied: matplotlib!=3.0.0,>=2.0.0 in /usr/local/lib/python3.7/dist-packages (from scikit-image) (3.2.2)\n",
            "Requirement already satisfied: numpy>=1.16.5 in /usr/local/lib/python3.7/dist-packages (from scikit-image) (1.19.5)\n",
            "Requirement already satisfied: networkx>=2.0 in /usr/local/lib/python3.7/dist-packages (from scikit-image) (2.6.3)\n",
            "Requirement already satisfied: scipy>=1.0.1 in /usr/local/lib/python3.7/dist-packages (from scikit-image) (1.4.1)\n",
            "Requirement already satisfied: pillow!=7.1.0,!=7.1.1,>=4.3.0 in /usr/local/lib/python3.7/dist-packages (from scikit-image) (7.1.2)\n",
            "Requirement already satisfied: python-dateutil>=2.1 in /usr/local/lib/python3.7/dist-packages (from matplotlib!=3.0.0,>=2.0.0->scikit-image) (2.8.2)\n",
            "Requirement already satisfied: cycler>=0.10 in /usr/local/lib/python3.7/dist-packages (from matplotlib!=3.0.0,>=2.0.0->scikit-image) (0.11.0)\n",
            "Requirement already satisfied: kiwisolver>=1.0.1 in /usr/local/lib/python3.7/dist-packages (from matplotlib!=3.0.0,>=2.0.0->scikit-image) (1.3.2)\n",
            "Requirement already satisfied: pyparsing!=2.0.4,!=2.1.2,!=2.1.6,>=2.0.1 in /usr/local/lib/python3.7/dist-packages (from matplotlib!=3.0.0,>=2.0.0->scikit-image) (2.4.7)\n",
            "Requirement already satisfied: six>=1.5 in /usr/local/lib/python3.7/dist-packages (from python-dateutil>=2.1->matplotlib!=3.0.0,>=2.0.0->scikit-image) (1.15.0)\n",
            "\u001b[33mWARNING: Running pip as the 'root' user can result in broken permissions and conflicting behaviour with the system package manager. It is recommended to use a virtual environment instead: https://pip.pypa.io/warnings/venv\u001b[0m\n"
          ]
        }
      ]
    },
    {
      "cell_type": "code",
      "metadata": {
        "id": "DbHtZBU8PtaN"
      },
      "source": [
        "import torch\n",
        "from tqdm import tqdm_notebook\n",
        "import torchvision\n",
        "import torch.nn as nn\n",
        "import pandas as pd\n",
        "import numpy as np\n",
        "import matplotlib.pyplot as plt\n",
        "import torch.nn.functional as F\n",
        "from sklearn.metrics import accuracy_score,precision_score,recall_score\n",
        "import torchvision.transforms as transforms\n",
        "from google.colab import drive\n",
        "from torch.utils.data import DataLoader,Dataset\n",
        "from torchvision import datasets\n",
        "from torchvision.transforms import ToTensor\n",
        "import torch.optim as optim\n"
      ],
      "execution_count": null,
      "outputs": []
    },
    {
      "cell_type": "markdown",
      "metadata": {
        "id": "OiP5WtFCRav7"
      },
      "source": [
        "En este script realizaran distintas actividades de Computer Vision, primero se intentara clasificar un dataset con redes neuronales normales, luego se aplicaran CNN, diversas tecnicas de procesamiento de imagenes (Filtros,BatchNormalization,Resize) y se compararan los resultados.\n",
        "\n",
        "\n",
        "Estas pruebas se realizaran tanto en el dataset MNIST como en el CIFAR-10, asi podremos ver la diferencia entre imagenes blanco y negro e imagenes a color."
      ]
    },
    {
      "cell_type": "code",
      "metadata": {
        "id": "8ZDOI08uVyuA"
      },
      "source": [
        "device = torch.device('cuda' if torch.cuda.is_available() else 'cpu')\n",
        "\n",
        "#basepath = \"/content/drive\"\n",
        "#fullpath_mnsit = \"{}/My Drive/UPC/mnist-in-csv/\".format(basepath)\n",
        "#fullpath_cifar = \"{}/My Drive/UPC/cifar10/\".format(basepath)\n",
        "\n",
        "#drive.mount(basepath)"
      ],
      "execution_count": null,
      "outputs": []
    },
    {
      "cell_type": "markdown",
      "metadata": {
        "id": "MKvIoVSOReMy"
      },
      "source": [
        "## Carga de Datos MNIST"
      ]
    },
    {
      "cell_type": "code",
      "metadata": {
        "id": "4sbNWLjeRaCW"
      },
      "source": [
        "resultados_eval = []"
      ],
      "execution_count": null,
      "outputs": []
    },
    {
      "cell_type": "code",
      "metadata": {
        "id": "QFIWzfgTOAHk"
      },
      "source": [
        "train_data = datasets.MNIST(\n",
        "    root = 'data',\n",
        "    train = True,                         \n",
        "    transform = ToTensor(), \n",
        "    download = True,            \n",
        ")\n",
        "test_data = datasets.MNIST(\n",
        "    root = 'data', \n",
        "    train = False, \n",
        "    transform = ToTensor()\n",
        ")"
      ],
      "execution_count": null,
      "outputs": []
    },
    {
      "cell_type": "code",
      "metadata": {
        "colab": {
          "base_uri": "https://localhost:8080/"
        },
        "id": "bC49JPpwOujH",
        "outputId": "c5d3d287-2ee9-4160-9d5c-20fe7c3f5baa"
      },
      "source": [
        "train_data.data[0]"
      ],
      "execution_count": null,
      "outputs": [
        {
          "output_type": "execute_result",
          "data": {
            "text/plain": [
              "tensor([[  0,   0,   0,   0,   0,   0,   0,   0,   0,   0,   0,   0,   0,   0,\n",
              "           0,   0,   0,   0,   0,   0,   0,   0,   0,   0,   0,   0,   0,   0],\n",
              "        [  0,   0,   0,   0,   0,   0,   0,   0,   0,   0,   0,   0,   0,   0,\n",
              "           0,   0,   0,   0,   0,   0,   0,   0,   0,   0,   0,   0,   0,   0],\n",
              "        [  0,   0,   0,   0,   0,   0,   0,   0,   0,   0,   0,   0,   0,   0,\n",
              "           0,   0,   0,   0,   0,   0,   0,   0,   0,   0,   0,   0,   0,   0],\n",
              "        [  0,   0,   0,   0,   0,   0,   0,   0,   0,   0,   0,   0,   0,   0,\n",
              "           0,   0,   0,   0,   0,   0,   0,   0,   0,   0,   0,   0,   0,   0],\n",
              "        [  0,   0,   0,   0,   0,   0,   0,   0,   0,   0,   0,   0,   0,   0,\n",
              "           0,   0,   0,   0,   0,   0,   0,   0,   0,   0,   0,   0,   0,   0],\n",
              "        [  0,   0,   0,   0,   0,   0,   0,   0,   0,   0,   0,   0,   3,  18,\n",
              "          18,  18, 126, 136, 175,  26, 166, 255, 247, 127,   0,   0,   0,   0],\n",
              "        [  0,   0,   0,   0,   0,   0,   0,   0,  30,  36,  94, 154, 170, 253,\n",
              "         253, 253, 253, 253, 225, 172, 253, 242, 195,  64,   0,   0,   0,   0],\n",
              "        [  0,   0,   0,   0,   0,   0,   0,  49, 238, 253, 253, 253, 253, 253,\n",
              "         253, 253, 253, 251,  93,  82,  82,  56,  39,   0,   0,   0,   0,   0],\n",
              "        [  0,   0,   0,   0,   0,   0,   0,  18, 219, 253, 253, 253, 253, 253,\n",
              "         198, 182, 247, 241,   0,   0,   0,   0,   0,   0,   0,   0,   0,   0],\n",
              "        [  0,   0,   0,   0,   0,   0,   0,   0,  80, 156, 107, 253, 253, 205,\n",
              "          11,   0,  43, 154,   0,   0,   0,   0,   0,   0,   0,   0,   0,   0],\n",
              "        [  0,   0,   0,   0,   0,   0,   0,   0,   0,  14,   1, 154, 253,  90,\n",
              "           0,   0,   0,   0,   0,   0,   0,   0,   0,   0,   0,   0,   0,   0],\n",
              "        [  0,   0,   0,   0,   0,   0,   0,   0,   0,   0,   0, 139, 253, 190,\n",
              "           2,   0,   0,   0,   0,   0,   0,   0,   0,   0,   0,   0,   0,   0],\n",
              "        [  0,   0,   0,   0,   0,   0,   0,   0,   0,   0,   0,  11, 190, 253,\n",
              "          70,   0,   0,   0,   0,   0,   0,   0,   0,   0,   0,   0,   0,   0],\n",
              "        [  0,   0,   0,   0,   0,   0,   0,   0,   0,   0,   0,   0,  35, 241,\n",
              "         225, 160, 108,   1,   0,   0,   0,   0,   0,   0,   0,   0,   0,   0],\n",
              "        [  0,   0,   0,   0,   0,   0,   0,   0,   0,   0,   0,   0,   0,  81,\n",
              "         240, 253, 253, 119,  25,   0,   0,   0,   0,   0,   0,   0,   0,   0],\n",
              "        [  0,   0,   0,   0,   0,   0,   0,   0,   0,   0,   0,   0,   0,   0,\n",
              "          45, 186, 253, 253, 150,  27,   0,   0,   0,   0,   0,   0,   0,   0],\n",
              "        [  0,   0,   0,   0,   0,   0,   0,   0,   0,   0,   0,   0,   0,   0,\n",
              "           0,  16,  93, 252, 253, 187,   0,   0,   0,   0,   0,   0,   0,   0],\n",
              "        [  0,   0,   0,   0,   0,   0,   0,   0,   0,   0,   0,   0,   0,   0,\n",
              "           0,   0,   0, 249, 253, 249,  64,   0,   0,   0,   0,   0,   0,   0],\n",
              "        [  0,   0,   0,   0,   0,   0,   0,   0,   0,   0,   0,   0,   0,   0,\n",
              "          46, 130, 183, 253, 253, 207,   2,   0,   0,   0,   0,   0,   0,   0],\n",
              "        [  0,   0,   0,   0,   0,   0,   0,   0,   0,   0,   0,   0,  39, 148,\n",
              "         229, 253, 253, 253, 250, 182,   0,   0,   0,   0,   0,   0,   0,   0],\n",
              "        [  0,   0,   0,   0,   0,   0,   0,   0,   0,   0,  24, 114, 221, 253,\n",
              "         253, 253, 253, 201,  78,   0,   0,   0,   0,   0,   0,   0,   0,   0],\n",
              "        [  0,   0,   0,   0,   0,   0,   0,   0,  23,  66, 213, 253, 253, 253,\n",
              "         253, 198,  81,   2,   0,   0,   0,   0,   0,   0,   0,   0,   0,   0],\n",
              "        [  0,   0,   0,   0,   0,   0,  18, 171, 219, 253, 253, 253, 253, 195,\n",
              "          80,   9,   0,   0,   0,   0,   0,   0,   0,   0,   0,   0,   0,   0],\n",
              "        [  0,   0,   0,   0,  55, 172, 226, 253, 253, 253, 253, 244, 133,  11,\n",
              "           0,   0,   0,   0,   0,   0,   0,   0,   0,   0,   0,   0,   0,   0],\n",
              "        [  0,   0,   0,   0, 136, 253, 253, 253, 212, 135, 132,  16,   0,   0,\n",
              "           0,   0,   0,   0,   0,   0,   0,   0,   0,   0,   0,   0,   0,   0],\n",
              "        [  0,   0,   0,   0,   0,   0,   0,   0,   0,   0,   0,   0,   0,   0,\n",
              "           0,   0,   0,   0,   0,   0,   0,   0,   0,   0,   0,   0,   0,   0],\n",
              "        [  0,   0,   0,   0,   0,   0,   0,   0,   0,   0,   0,   0,   0,   0,\n",
              "           0,   0,   0,   0,   0,   0,   0,   0,   0,   0,   0,   0,   0,   0],\n",
              "        [  0,   0,   0,   0,   0,   0,   0,   0,   0,   0,   0,   0,   0,   0,\n",
              "           0,   0,   0,   0,   0,   0,   0,   0,   0,   0,   0,   0,   0,   0]],\n",
              "       dtype=torch.uint8)"
            ]
          },
          "metadata": {},
          "execution_count": 6
        }
      ]
    },
    {
      "cell_type": "code",
      "metadata": {
        "colab": {
          "base_uri": "https://localhost:8080/"
        },
        "id": "zWJAqPurO8V7",
        "outputId": "dbecffe6-6061-4866-c929-87648692c1bb"
      },
      "source": [
        "train_data.data.shape"
      ],
      "execution_count": null,
      "outputs": [
        {
          "output_type": "execute_result",
          "data": {
            "text/plain": [
              "torch.Size([60000, 28, 28])"
            ]
          },
          "metadata": {},
          "execution_count": 7
        }
      ]
    },
    {
      "cell_type": "code",
      "metadata": {
        "colab": {
          "base_uri": "https://localhost:8080/"
        },
        "id": "egmIAVr8OBLD",
        "outputId": "0d1107d4-7c08-4223-a86b-3664fc2f5808"
      },
      "source": [
        "trainset_nn = train_data.data/255.\n",
        "\n",
        "trainset_nn = trainset_nn.reshape(60000,28*28)\n",
        "\n",
        "testset_nn = test_data.data/255.\n",
        "\n",
        "\n",
        "testset_nn = testset_nn.reshape(10000,28*28)\n",
        "\n",
        "print(trainset_nn.shape)\n",
        "\n",
        "print(testset_nn.shape)\n",
        "\n"
      ],
      "execution_count": null,
      "outputs": [
        {
          "output_type": "stream",
          "name": "stdout",
          "text": [
            "torch.Size([60000, 784])\n",
            "torch.Size([10000, 784])\n"
          ]
        }
      ]
    },
    {
      "cell_type": "code",
      "metadata": {
        "id": "V1zrtECjQflK"
      },
      "source": [
        "targets_train_nn = train_data.targets.long()\n",
        "targets_test_nn = test_data.targets.long()"
      ],
      "execution_count": null,
      "outputs": []
    },
    {
      "cell_type": "markdown",
      "metadata": {
        "id": "PcqDTiynWLw2"
      },
      "source": [
        "Seleccionamos una muestra de 25 imagenes, para realizar un grafico."
      ]
    },
    {
      "cell_type": "code",
      "metadata": {
        "colab": {
          "base_uri": "https://localhost:8080/",
          "height": 482
        },
        "id": "VnhSEW0fWItC",
        "outputId": "175a4330-45c8-4423-95ec-84d0d4f8df23"
      },
      "source": [
        "figure = plt.figure(figsize=(10, 8))\n",
        "cols, rows = 5, 5\n",
        "for i in range(1, cols * rows + 1):\n",
        "    sample_idx = torch.randint(len(train_data), size=(1,)).item()\n",
        "    img, label = train_data[sample_idx]\n",
        "    figure.add_subplot(rows, cols, i)\n",
        "    plt.title(label)\n",
        "    plt.axis(\"off\")\n",
        "    plt.imshow(img.squeeze(), cmap=\"gray\")\n",
        "plt.show()"
      ],
      "execution_count": null,
      "outputs": [
        {
          "output_type": "display_data",
          "data": {
            "image/png": "[encoded data removed]",
            "text/plain": [
              "<Figure size 720x576 with 25 Axes>"
            ]
          },
          "metadata": {
            "needs_background": "light"
          }
        }
      ]
    },
    {
      "cell_type": "code",
      "metadata": {
        "id": "YJh3KNQHWehI"
      },
      "source": [
        "\n",
        "\n",
        "X_train_tensor = trainset_nn.float()\n",
        "y_train_tensor = targets_train_nn\n",
        "X_test_tensor = testset_nn.float()\n",
        "y_test_tensor = targets_test_nn"
      ],
      "execution_count": null,
      "outputs": []
    },
    {
      "cell_type": "markdown",
      "metadata": {
        "id": "0HFJ_jDGWnNV"
      },
      "source": [
        "Como es una red neuronal convencional el input sera un vector de 784 elementos."
      ]
    },
    {
      "cell_type": "code",
      "metadata": {
        "colab": {
          "base_uri": "https://localhost:8080/"
        },
        "id": "Um38f35HWryV",
        "outputId": "1fa58494-af28-4a7f-a816-961aa31d36cd"
      },
      "source": [
        "X_train_tensor.shape"
      ],
      "execution_count": null,
      "outputs": [
        {
          "output_type": "execute_result",
          "data": {
            "text/plain": [
              "torch.Size([60000, 784])"
            ]
          },
          "metadata": {},
          "execution_count": 12
        }
      ]
    },
    {
      "cell_type": "markdown",
      "metadata": {
        "id": "dULh5d-xWtOg"
      },
      "source": [
        "X_train tiene 60000 vectores de 784 elementos.Normalizamos los features."
      ]
    },
    {
      "cell_type": "markdown",
      "metadata": {
        "id": "prHUvZLjWdxO"
      },
      "source": [
        "# Red Neuronal Convencional MNIST\n",
        "\n"
      ]
    },
    {
      "cell_type": "markdown",
      "metadata": {
        "id": "qxS1MlHwW5eX"
      },
      "source": [
        "* input_size : Numero de elementos en el vector (784)\n",
        "* output_size : etiquetas de salida (10)\n",
        "\n",
        "* hidden_size_1 : 32 \n",
        "* hidden_size_2 : 64"
      ]
    },
    {
      "cell_type": "code",
      "metadata": {
        "id": "57hrq0uqWI1n"
      },
      "source": [
        "input_size = X_train_tensor[0].shape[0]\n",
        "output_size = len(list(set(targets_test_nn.detach().cpu().numpy())))\n",
        "\n",
        "hidden_size_1 = 32 \n",
        "hidden_size_2 = 64"
      ],
      "execution_count": null,
      "outputs": []
    },
    {
      "cell_type": "code",
      "metadata": {
        "colab": {
          "base_uri": "https://localhost:8080/"
        },
        "id": "OURMZl31YtNU",
        "outputId": "ed9c41a3-cd2b-4925-8bec-33930f47f9e0"
      },
      "source": [
        "input_size"
      ],
      "execution_count": null,
      "outputs": [
        {
          "output_type": "execute_result",
          "data": {
            "text/plain": [
              "784"
            ]
          },
          "metadata": {},
          "execution_count": 14
        }
      ]
    },
    {
      "cell_type": "markdown",
      "metadata": {
        "id": "oLM_OinhXNDR"
      },
      "source": [
        "Construimos nuestra red neuronal. "
      ]
    },
    {
      "cell_type": "code",
      "metadata": {
        "id": "ySlktnRZXNhT"
      },
      "source": [
        "class ImgClf(nn.Module):\n",
        "\n",
        "    def __init__(self):\n",
        "\n",
        "\n",
        "        super(ImgClf,self).__init__()\n",
        "\n",
        "        self.fc1 = nn.Linear(input_size,hidden_size_1)\n",
        "        self.fc2 = nn.Linear(hidden_size_1,hidden_size_2)\n",
        "        self.fc3 = nn.Linear(hidden_size_2,output_size)\n",
        "\n",
        "\n",
        "    def forward(self,x):\n",
        "\n",
        "        x = torch.sigmoid(self.fc1(x))\n",
        "        x = torch.sigmoid(self.fc2(x))\n",
        "\n",
        "        x = self.fc3(x)\n",
        "\n",
        "        return torch.log_softmax(x,dim = -1)"
      ],
      "execution_count": null,
      "outputs": []
    },
    {
      "cell_type": "code",
      "metadata": {
        "id": "8K2ZJXq0XRPs"
      },
      "source": [
        "model = ImgClf()"
      ],
      "execution_count": null,
      "outputs": []
    },
    {
      "cell_type": "code",
      "metadata": {
        "colab": {
          "base_uri": "https://localhost:8080/"
        },
        "id": "k4JZGyzbXRk2",
        "outputId": "c3913b6b-c3e8-4ac2-9fc1-ee150bb350e5"
      },
      "source": [
        "model.to(device)"
      ],
      "execution_count": null,
      "outputs": [
        {
          "output_type": "execute_result",
          "data": {
            "text/plain": [
              "ImgClf(\n",
              "  (fc1): Linear(in_features=784, out_features=32, bias=True)\n",
              "  (fc2): Linear(in_features=32, out_features=64, bias=True)\n",
              "  (fc3): Linear(in_features=64, out_features=10, bias=True)\n",
              ")"
            ]
          },
          "metadata": {},
          "execution_count": 17
        }
      ]
    },
    {
      "cell_type": "markdown",
      "metadata": {
        "id": "5kWe7IHDXV-E"
      },
      "source": [
        "## Entrenamos el modelo"
      ]
    },
    {
      "cell_type": "code",
      "metadata": {
        "id": "oIjWVFvpXx77"
      },
      "source": [
        "\n",
        "\n",
        "optimizer = optim.Adam(model.parameters())\n",
        "\n",
        "loss_fn = nn.NLLLoss()"
      ],
      "execution_count": null,
      "outputs": []
    },
    {
      "cell_type": "code",
      "metadata": {
        "colab": {
          "base_uri": "https://localhost:8080/"
        },
        "id": "5hN5YX8tXoiV",
        "outputId": "2fec87ec-f3cb-47ff-c02f-3ce0b94e9f1f"
      },
      "source": [
        "epochs = 500\n",
        "\n",
        "for epoch in range(1,epochs+1):\n",
        "\n",
        "    optimizer.zero_grad()\n",
        "\n",
        "    y_pred = model(X_train_tensor.to(device))\n",
        "\n",
        "    loss = loss_fn(y_pred.to(device),y_train_tensor.to(device))\n",
        "\n",
        "    loss.backward()\n",
        "\n",
        "    optimizer.step()\n",
        "\n",
        "    if epoch % 10 == 0:\n",
        "\n",
        "        print(f'Epoch - {epoch}, loss {loss.item()} ')"
      ],
      "execution_count": null,
      "outputs": [
        {
          "output_type": "stream",
          "name": "stdout",
          "text": [
            "Epoch - 10, loss 2.284897565841675 \n",
            "Epoch - 20, loss 2.25913143157959 \n",
            "Epoch - 30, loss 2.2180042266845703 \n",
            "Epoch - 40, loss 2.1599793434143066 \n",
            "Epoch - 50, loss 2.0820260047912598 \n",
            "Epoch - 60, loss 1.9846323728561401 \n",
            "Epoch - 70, loss 1.8708159923553467 \n",
            "Epoch - 80, loss 1.7465529441833496 \n",
            "Epoch - 90, loss 1.6193567514419556 \n",
            "Epoch - 100, loss 1.4960824251174927 \n",
            "Epoch - 110, loss 1.3814609050750732 \n",
            "Epoch - 120, loss 1.2779958248138428 \n",
            "Epoch - 130, loss 1.1862934827804565 \n",
            "Epoch - 140, loss 1.105573296546936 \n",
            "Epoch - 150, loss 1.0344144105911255 \n",
            "Epoch - 160, loss 0.9713084101676941 \n",
            "Epoch - 170, loss 0.9148560762405396 \n",
            "Epoch - 180, loss 0.8638082146644592 \n",
            "Epoch - 190, loss 0.8170749545097351 \n",
            "Epoch - 200, loss 0.7737407684326172 \n",
            "Epoch - 210, loss 0.7331641912460327 \n",
            "Epoch - 220, loss 0.6950510144233704 \n",
            "Epoch - 230, loss 0.6593180298805237 \n",
            "Epoch - 240, loss 0.6259368658065796 \n",
            "Epoch - 250, loss 0.5948726534843445 \n",
            "Epoch - 260, loss 0.5660713911056519 \n",
            "Epoch - 270, loss 0.5394582152366638 \n",
            "Epoch - 280, loss 0.5149350166320801 \n",
            "Epoch - 290, loss 0.4923821985721588 \n",
            "Epoch - 300, loss 0.47166723012924194 \n",
            "Epoch - 310, loss 0.45265188813209534 \n",
            "Epoch - 320, loss 0.4352003037929535 \n",
            "Epoch - 330, loss 0.4191805422306061 \n",
            "Epoch - 340, loss 0.4044650197029114 \n",
            "Epoch - 350, loss 0.39092960953712463 \n",
            "Epoch - 360, loss 0.37845465540885925 \n",
            "Epoch - 370, loss 0.36692652106285095 \n",
            "Epoch - 380, loss 0.35624000430107117 \n",
            "Epoch - 390, loss 0.3463000953197479 \n",
            "Epoch - 400, loss 0.33702194690704346 \n",
            "Epoch - 410, loss 0.3283309042453766 \n",
            "Epoch - 420, loss 0.32016241550445557 \n",
            "Epoch - 430, loss 0.3124615252017975 \n",
            "Epoch - 440, loss 0.30518147349357605 \n",
            "Epoch - 450, loss 0.29828205704689026 \n",
            "Epoch - 460, loss 0.29172831773757935 \n",
            "Epoch - 470, loss 0.28548866510391235 \n",
            "Epoch - 480, loss 0.2795349955558777 \n",
            "Epoch - 490, loss 0.27384310960769653 \n",
            "Epoch - 500, loss 0.26839160919189453 \n"
          ]
        }
      ]
    },
    {
      "cell_type": "markdown",
      "metadata": {
        "id": "soaCwnEuYwOD"
      },
      "source": [
        "## Evaluamos el Modelo"
      ]
    },
    {
      "cell_type": "code",
      "metadata": {
        "colab": {
          "base_uri": "https://localhost:8080/"
        },
        "id": "djWgmqYYXRns",
        "outputId": "de8ffa99-774d-4008-fdd8-c1089a6a2710"
      },
      "source": [
        "with torch.no_grad():\n",
        "\n",
        "    correct = 0\n",
        "    total = 0\n",
        "\n",
        "    outputs = model(X_test_tensor.to(device))\n",
        "    _,predicted = torch.max(outputs.data,1)\n",
        "\n",
        "    mnist_test_tg = targets_test_nn.detach().cpu().numpy()\n",
        "\n",
        "    acc = accuracy_score(predicted.detach().cpu().numpy(),mnist_test_tg)\n",
        "    recall = recall_score(predicted.detach().cpu().numpy(),mnist_test_tg,average='weighted') \n",
        "    precision = precision_score(predicted.detach().cpu().numpy(),mnist_test_tg,average='weighted')\n",
        "\n",
        "    print('acc',acc)\n",
        "    print('precison', precision)\n",
        "    print('recall', recall)\n",
        "\n",
        "    resultados_eval.append([acc,precision,recall])"
      ],
      "execution_count": null,
      "outputs": [
        {
          "output_type": "stream",
          "name": "stdout",
          "text": [
            "acc 0.9273\n",
            "precison 0.9278651022564472\n",
            "recall 0.9273\n"
          ]
        }
      ]
    },
    {
      "cell_type": "markdown",
      "metadata": {
        "id": "zBBwqZnyY54A"
      },
      "source": [
        "# Red Neuronal Convolucional MNIST"
      ]
    },
    {
      "cell_type": "code",
      "metadata": {
        "id": "1QPoBvYyBANK"
      },
      "source": [
        "\n",
        "train_data = datasets.MNIST(\n",
        "    root = 'data',\n",
        "    train = True,                         \n",
        "    transform = ToTensor(), \n",
        "    download = True,            \n",
        ")\n",
        "test_data = datasets.MNIST(\n",
        "    root = 'data', \n",
        "    train = False, \n",
        "    transform = ToTensor()\n",
        ")"
      ],
      "execution_count": null,
      "outputs": []
    },
    {
      "cell_type": "code",
      "metadata": {
        "colab": {
          "base_uri": "https://localhost:8080/"
        },
        "id": "tPDMMHS7G78H",
        "outputId": "5a53a0da-899d-4f33-ffd0-ca56898c71ce"
      },
      "source": [
        "from torch.utils.data import DataLoader\n",
        "loaders = {\n",
        "    'train' : torch.utils.data.DataLoader(train_data, \n",
        "                                          batch_size=100, \n",
        "                                          shuffle=True, \n",
        "                                          num_workers=1),\n",
        "    \n",
        "    'test'  : torch.utils.data.DataLoader(test_data, \n",
        "                                          batch_size=100, \n",
        "                                          shuffle=True, \n",
        "                                          num_workers=1),\n",
        "}\n",
        "loaders"
      ],
      "execution_count": null,
      "outputs": [
        {
          "output_type": "execute_result",
          "data": {
            "text/plain": [
              "{'test': <torch.utils.data.dataloader.DataLoader at 0x7f1883c80e50>,\n",
              " 'train': <torch.utils.data.dataloader.DataLoader at 0x7f18837d9c50>}"
            ]
          },
          "metadata": {},
          "execution_count": 22
        }
      ]
    },
    {
      "cell_type": "markdown",
      "metadata": {
        "id": "WUR5tfufamjS"
      },
      "source": [
        "* Input_size : 1\n",
        "\n",
        "\n",
        "\n",
        "* Output_size2 : etiquetas de salida (10)\n",
        "\n",
        "* Hidden_size_1 : 16 \n",
        "\n",
        "* Hidden_size_2 : 32\n",
        "\n",
        "* K_conv_size : 5\n",
        "\n"
      ]
    },
    {
      "cell_type": "code",
      "metadata": {
        "id": "XcIJJl5A4I9S"
      },
      "source": [
        "Input_size = 1\n",
        "\n",
        "\n",
        "Output_size2 = len(list(set(targets_test_nn.detach().cpu().numpy())))\n",
        "\n",
        "Hidden_size_1 = 16 \n",
        "\n",
        "Hidden_size_2 = 32\n",
        "\n",
        "K_conv_size = 5\n"
      ],
      "execution_count": null,
      "outputs": []
    },
    {
      "cell_type": "code",
      "metadata": {
        "id": "zNp7xVAqXRqY"
      },
      "source": [
        "class CNN1(nn.Module):\n",
        "\n",
        "    def __init__(self):\n",
        "        \n",
        "        super(CNN1, self).__init__()\n",
        "        \n",
        "        self.conv1 = nn.Sequential(         \n",
        "                nn.Conv2d(\n",
        "                in_channels=1,              \n",
        "                out_channels=Hidden_size_1,            \n",
        "                kernel_size=K_conv_size,              \n",
        "                stride=1,                   \n",
        "                padding=2,                  \n",
        "            ),                              \n",
        "            nn.ReLU(),                      \n",
        "            nn.MaxPool2d(kernel_size=2),    \n",
        "        )\n",
        "        self.conv2 = nn.Sequential(         \n",
        "            nn.Conv2d(Hidden_size_1, Hidden_size_2, K_conv_size, 1, 2),     \n",
        "            nn.ReLU(),                      \n",
        "            nn.MaxPool2d(2),                \n",
        "        )\n",
        "        \n",
        "        self.out = nn.Linear(Hidden_size_2 * 7 * 7, 10)\n",
        "    def forward(self, x):\n",
        "        x = self.conv1(x)\n",
        "        x = self.conv2(x)\n",
        "        \n",
        "        x = x.view(x.size(0), -1)       \n",
        "        output = self.out(x)\n",
        "        return output"
      ],
      "execution_count": null,
      "outputs": []
    },
    {
      "cell_type": "code",
      "metadata": {
        "id": "cpdMmEO8c_gM"
      },
      "source": [
        "model_cnn = CNN1()"
      ],
      "execution_count": null,
      "outputs": []
    },
    {
      "cell_type": "code",
      "metadata": {
        "colab": {
          "base_uri": "https://localhost:8080/"
        },
        "id": "-M06DOoQdCFy",
        "outputId": "ac35a1bf-4627-47fa-ce2c-6f4bffba60ca"
      },
      "source": [
        "model_cnn.to(device)"
      ],
      "execution_count": null,
      "outputs": [
        {
          "output_type": "execute_result",
          "data": {
            "text/plain": [
              "CNN1(\n",
              "  (conv1): Sequential(\n",
              "    (0): Conv2d(1, 16, kernel_size=(5, 5), stride=(1, 1), padding=(2, 2))\n",
              "    (1): ReLU()\n",
              "    (2): MaxPool2d(kernel_size=2, stride=2, padding=0, dilation=1, ceil_mode=False)\n",
              "  )\n",
              "  (conv2): Sequential(\n",
              "    (0): Conv2d(16, 32, kernel_size=(5, 5), stride=(1, 1), padding=(2, 2))\n",
              "    (1): ReLU()\n",
              "    (2): MaxPool2d(kernel_size=2, stride=2, padding=0, dilation=1, ceil_mode=False)\n",
              "  )\n",
              "  (out): Linear(in_features=1568, out_features=10, bias=True)\n",
              ")"
            ]
          },
          "metadata": {},
          "execution_count": 26
        }
      ]
    },
    {
      "cell_type": "code",
      "metadata": {
        "id": "icJxZsM6XRtK"
      },
      "source": [
        "optimizer_cnn = torch.optim.Adam(model_cnn.parameters(),lr = 0.01)\n",
        "\n",
        "criterion = nn.CrossEntropyLoss()  \n",
        "\n",
        "train_loader = torch.utils.data.DataLoader(dataset=loaders['train'], batch_size=32, shuffle=True)\n",
        "\n",
        "test_loader = torch.utils.data.DataLoader(dataset=loaders['test'], batch_size=32, shuffle=True)"
      ],
      "execution_count": null,
      "outputs": []
    },
    {
      "cell_type": "code",
      "metadata": {
        "colab": {
          "base_uri": "https://localhost:8080/"
        },
        "id": "2eaz9cJSTZzn",
        "outputId": "fe3571e8-ac08-4547-f712-1b8d0ce3d109"
      },
      "source": [
        "from torch.autograd import Variable\n",
        "num_epochs = 10\n",
        "#def train(num_epochs, cnn, loaders):\n",
        "    \n",
        "model_cnn.train()\n",
        "    \n",
        "# Train the model\n",
        "total_step = len(loaders['train'])\n",
        "    \n",
        "for epoch in range(num_epochs):\n",
        "\n",
        "    for i, (images, labels) in enumerate(loaders['train']):\n",
        "        \n",
        "        \n",
        "        images = Variable(images).to(device)   \n",
        "        labels = labels.to(device)  \n",
        "        output = model_cnn(images)\n",
        "        loss = criterion(output, labels)\n",
        "        \n",
        "        \n",
        "        optimizer_cnn.zero_grad()           \n",
        "        \n",
        "        loss.backward()    \n",
        "                     \n",
        "        optimizer_cnn.step()                \n",
        "        \n",
        "        if (i+1) % 100 == 0:\n",
        "            print ('Epoch [{}/{}], Step [{}/{}], Loss: {:.4f}' \n",
        "                    .format(epoch + 1, num_epochs, i + 1, total_step, loss.item()))\n",
        "        \n"
      ],
      "execution_count": null,
      "outputs": [
        {
          "output_type": "stream",
          "name": "stdout",
          "text": [
            "Epoch [1/10], Step [100/600], Loss: 0.1906\n",
            "Epoch [1/10], Step [200/600], Loss: 0.0768\n",
            "Epoch [1/10], Step [300/600], Loss: 0.0320\n",
            "Epoch [1/10], Step [400/600], Loss: 0.0509\n",
            "Epoch [1/10], Step [500/600], Loss: 0.0986\n",
            "Epoch [1/10], Step [600/600], Loss: 0.0713\n",
            "Epoch [2/10], Step [100/600], Loss: 0.0324\n",
            "Epoch [2/10], Step [200/600], Loss: 0.1287\n",
            "Epoch [2/10], Step [300/600], Loss: 0.0477\n",
            "Epoch [2/10], Step [400/600], Loss: 0.0778\n",
            "Epoch [2/10], Step [500/600], Loss: 0.0183\n",
            "Epoch [2/10], Step [600/600], Loss: 0.1393\n",
            "Epoch [3/10], Step [100/600], Loss: 0.0553\n",
            "Epoch [3/10], Step [200/600], Loss: 0.0466\n",
            "Epoch [3/10], Step [300/600], Loss: 0.0121\n",
            "Epoch [3/10], Step [400/600], Loss: 0.0116\n",
            "Epoch [3/10], Step [500/600], Loss: 0.0207\n",
            "Epoch [3/10], Step [600/600], Loss: 0.0217\n",
            "Epoch [4/10], Step [100/600], Loss: 0.0857\n",
            "Epoch [4/10], Step [200/600], Loss: 0.0514\n",
            "Epoch [4/10], Step [300/600], Loss: 0.0013\n",
            "Epoch [4/10], Step [400/600], Loss: 0.1214\n",
            "Epoch [4/10], Step [500/600], Loss: 0.0784\n",
            "Epoch [4/10], Step [600/600], Loss: 0.0418\n",
            "Epoch [5/10], Step [100/600], Loss: 0.0284\n",
            "Epoch [5/10], Step [200/600], Loss: 0.0284\n",
            "Epoch [5/10], Step [300/600], Loss: 0.0475\n",
            "Epoch [5/10], Step [400/600], Loss: 0.1273\n",
            "Epoch [5/10], Step [500/600], Loss: 0.0128\n",
            "Epoch [5/10], Step [600/600], Loss: 0.0126\n",
            "Epoch [6/10], Step [100/600], Loss: 0.0125\n",
            "Epoch [6/10], Step [200/600], Loss: 0.0048\n",
            "Epoch [6/10], Step [300/600], Loss: 0.0477\n",
            "Epoch [6/10], Step [400/600], Loss: 0.0898\n",
            "Epoch [6/10], Step [500/600], Loss: 0.0263\n",
            "Epoch [6/10], Step [600/600], Loss: 0.0476\n",
            "Epoch [7/10], Step [100/600], Loss: 0.0022\n",
            "Epoch [7/10], Step [200/600], Loss: 0.1068\n",
            "Epoch [7/10], Step [300/600], Loss: 0.0293\n",
            "Epoch [7/10], Step [400/600], Loss: 0.0652\n",
            "Epoch [7/10], Step [500/600], Loss: 0.0097\n",
            "Epoch [7/10], Step [600/600], Loss: 0.0627\n",
            "Epoch [8/10], Step [100/600], Loss: 0.0486\n",
            "Epoch [8/10], Step [200/600], Loss: 0.1216\n",
            "Epoch [8/10], Step [300/600], Loss: 0.0698\n",
            "Epoch [8/10], Step [400/600], Loss: 0.0039\n",
            "Epoch [8/10], Step [500/600], Loss: 0.0077\n",
            "Epoch [8/10], Step [600/600], Loss: 0.1152\n",
            "Epoch [9/10], Step [100/600], Loss: 0.0553\n",
            "Epoch [9/10], Step [200/600], Loss: 0.0037\n",
            "Epoch [9/10], Step [300/600], Loss: 0.0325\n",
            "Epoch [9/10], Step [400/600], Loss: 0.1978\n",
            "Epoch [9/10], Step [500/600], Loss: 0.0099\n",
            "Epoch [9/10], Step [600/600], Loss: 0.0112\n",
            "Epoch [10/10], Step [100/600], Loss: 0.0150\n",
            "Epoch [10/10], Step [200/600], Loss: 0.0151\n",
            "Epoch [10/10], Step [300/600], Loss: 0.0132\n",
            "Epoch [10/10], Step [400/600], Loss: 0.0011\n",
            "Epoch [10/10], Step [500/600], Loss: 0.0958\n",
            "Epoch [10/10], Step [600/600], Loss: 0.0635\n"
          ]
        }
      ]
    },
    {
      "cell_type": "code",
      "metadata": {
        "id": "aoeoMZV5O2iD"
      },
      "source": [
        "\n",
        "model_cnn.eval()\n",
        "\n",
        "with torch.no_grad():\n",
        "      \n",
        "      correct = 0\n",
        "      \n",
        "      total = 0\n",
        "      \n",
        "      for images, labels in loaders['test']:\n",
        "      \n",
        "          test_output = model_cnn(images.to(device))\n",
        "      \n",
        "          pred_y = torch.max(test_output, 1)[1]#.data.squeeze()\n",
        "      \n",
        "         \n",
        "          acc = accuracy_score(pred_y.detach().cpu().numpy(),labels.detach().cpu().numpy())\n",
        "          recall = recall_score(pred_y.detach().cpu().numpy(),labels.detach().cpu().numpy(),average='weighted') \n",
        "          precision = precision_score(pred_y.detach().cpu().numpy(),labels.detach().cpu().numpy(),average='weighted')\n",
        "\n",
        "          #print('acc',acc)\n",
        "          #print('precison', precision)\n",
        "          #print('recall', recall)\n",
        "\n",
        "          acc = np.mean(np.array(acc))\n",
        "          recall = np.mean(np.array(recall))\n",
        "          precision = np.mean(np.array(precision))\n",
        "\n",
        "resultados_eval.append([acc,precision,recall])\n"
      ],
      "execution_count": null,
      "outputs": []
    },
    {
      "cell_type": "code",
      "metadata": {
        "id": "a9Wmz8BsWI9t"
      },
      "source": [
        "resultados_eval = pd.DataFrame(resultados_eval,columns = ['acc','precision','recall'],index = ['NN','CNN'])"
      ],
      "execution_count": null,
      "outputs": []
    },
    {
      "cell_type": "code",
      "metadata": {
        "colab": {
          "base_uri": "https://localhost:8080/",
          "height": 112
        },
        "id": "5kIGpRnDZyXQ",
        "outputId": "e71aa80d-1fff-4eba-cce4-c142b742ad30"
      },
      "source": [
        "resultados_eval"
      ],
      "execution_count": null,
      "outputs": [
        {
          "output_type": "execute_result",
          "data": {
            "text/html": [
              "<div>\n",
              "<style scoped>\n",
              "    .dataframe tbody tr th:only-of-type {\n",
              "        vertical-align: middle;\n",
              "    }\n",
              "\n",
              "    .dataframe tbody tr th {\n",
              "        vertical-align: top;\n",
              "    }\n",
              "\n",
              "    .dataframe thead th {\n",
              "        text-align: right;\n",
              "    }\n",
              "</style>\n",
              "<table border=\"1\" class=\"dataframe\">\n",
              "  <thead>\n",
              "    <tr style=\"text-align: right;\">\n",
              "      <th></th>\n",
              "      <th>acc</th>\n",
              "      <th>precision</th>\n",
              "      <th>recall</th>\n",
              "    </tr>\n",
              "  </thead>\n",
              "  <tbody>\n",
              "    <tr>\n",
              "      <th>NN</th>\n",
              "      <td>0.9273</td>\n",
              "      <td>0.927865</td>\n",
              "      <td>0.9273</td>\n",
              "    </tr>\n",
              "    <tr>\n",
              "      <th>CNN</th>\n",
              "      <td>0.9900</td>\n",
              "      <td>0.991111</td>\n",
              "      <td>0.9900</td>\n",
              "    </tr>\n",
              "  </tbody>\n",
              "</table>\n",
              "</div>"
            ],
            "text/plain": [
              "        acc  precision  recall\n",
              "NN   0.9273   0.927865  0.9273\n",
              "CNN  0.9900   0.991111  0.9900"
            ]
          },
          "metadata": {},
          "execution_count": 31
        }
      ]
    },
    {
      "cell_type": "markdown",
      "metadata": {
        "id": "HyNBs_qgZ94g"
      },
      "source": [
        "# Cifar - 10"
      ]
    },
    {
      "cell_type": "code",
      "metadata": {
        "id": "a80DLffmfPin"
      },
      "source": [
        "import pickle"
      ],
      "execution_count": null,
      "outputs": []
    },
    {
      "cell_type": "code",
      "metadata": {
        "id": "6oYbtNbRWJAW",
        "colab": {
          "base_uri": "https://localhost:8080/"
        },
        "outputId": "7fd2b610-2c70-4f4e-88c7-f196e2d6413f"
      },
      "source": [
        "!wget https://www.cs.toronto.edu/~kriz/cifar-10-python.tar.gz -P datasets\n",
        "!tar xf datasets/cifar-10-python.tar.gz -C datasets"
      ],
      "execution_count": null,
      "outputs": [
        {
          "output_type": "stream",
          "name": "stdout",
          "text": [
            "--2021-11-14 22:53:14--  https://www.cs.toronto.edu/~kriz/cifar-10-python.tar.gz\n",
            "Resolving www.cs.toronto.edu (www.cs.toronto.edu)... 128.100.3.30\n",
            "Connecting to www.cs.toronto.edu (www.cs.toronto.edu)|128.100.3.30|:443... connected.\n",
            "HTTP request sent, awaiting response... 200 OK\n",
            "Length: 170498071 (163M) [application/x-gzip]\n",
            "Saving to: ‘datasets/cifar-10-python.tar.gz’\n",
            "\n",
            "cifar-10-python.tar 100%[===================>] 162.60M  17.0MB/s    in 11s     \n",
            "\n",
            "2021-11-14 22:53:26 (15.1 MB/s) - ‘datasets/cifar-10-python.tar.gz’ saved [170498071/170498071]\n",
            "\n"
          ]
        }
      ]
    },
    {
      "cell_type": "code",
      "metadata": {
        "id": "SwQ2z9gYe9IJ"
      },
      "source": [
        "transformer =  transforms.Compose([\n",
        "    transforms.Resize(256),\n",
        "    transforms.ToTensor()])"
      ],
      "execution_count": null,
      "outputs": []
    },
    {
      "cell_type": "code",
      "metadata": {
        "colab": {
          "base_uri": "https://localhost:8080/",
          "height": 104,
          "referenced_widgets": [
            "b34f630b91474e12a762a889d47ea530",
            "8f50c237be1f40ea807d78453836594d",
            "7a7205ef16524bea9bd1b8700130e565",
            "608c346ef8534a7385b47ffeab8bef7c",
            "097d395ba8b64499a679ba4ac87cf400",
            "2eb2c60cddb7420f8e9e2e167667c691",
            "46dc28ea88664b64b45abe84e197b109",
            "3627dcea57b34ad291704beb5c784535",
            "72d0154622fd421d854f669b1597909d",
            "c047178ad3e34b6dbb36e13f4d238017",
            "39d7be37eb554b1a950aeaef1b0d64de"
          ]
        },
        "id": "iUsdfmttfOlv",
        "outputId": "a2b1b935-8c07-4013-9515-92c6059e6ee6"
      },
      "source": [
        "dataset_cifar = torchvision.datasets.CIFAR10(root = './image-classification-pytorch/datasets/cifar10/train',download=True,transform=transformer)"
      ],
      "execution_count": null,
      "outputs": [
        {
          "output_type": "stream",
          "name": "stdout",
          "text": [
            "Downloading https://www.cs.toronto.edu/~kriz/cifar-10-python.tar.gz to ./image-classification-pytorch/datasets/cifar10/train/cifar-10-python.tar.gz\n"
          ]
        },
        {
          "output_type": "display_data",
          "data": {
            "application/vnd.jupyter.widget-view+json": {
              "model_id": "b34f630b91474e12a762a889d47ea530",
              "version_minor": 0,
              "version_major": 2
            },
            "text/plain": [
              "  0%|          | 0/170498071 [00:00<?, ?it/s]"
            ]
          },
          "metadata": {}
        },
        {
          "output_type": "stream",
          "name": "stdout",
          "text": [
            "Extracting ./image-classification-pytorch/datasets/cifar10/train/cifar-10-python.tar.gz to ./image-classification-pytorch/datasets/cifar10/train\n"
          ]
        }
      ]
    },
    {
      "cell_type": "code",
      "metadata": {
        "colab": {
          "base_uri": "https://localhost:8080/"
        },
        "id": "FyC5fjeVfcOK",
        "outputId": "e321dc78-2231-4af7-e3be-5c29438699c4"
      },
      "source": [
        "dataset_cifar"
      ],
      "execution_count": null,
      "outputs": [
        {
          "output_type": "execute_result",
          "data": {
            "text/plain": [
              "Dataset CIFAR10\n",
              "    Number of datapoints: 50000\n",
              "    Root location: ./image-classification-pytorch/datasets/cifar10/train\n",
              "    Split: Train\n",
              "    StandardTransform\n",
              "Transform: Compose(\n",
              "               Resize(size=256, interpolation=bilinear, max_size=None, antialias=None)\n",
              "               ToTensor()\n",
              "           )"
            ]
          },
          "metadata": {},
          "execution_count": 36
        }
      ]
    },
    {
      "cell_type": "markdown",
      "metadata": {
        "id": "xH041tKpfuh8"
      },
      "source": [
        "Aca usaremos los elementos Dataset y Dataloader de pytorch, estos nos permiten manejar grandes cantidades de datos de forma mas eficiente."
      ]
    },
    {
      "cell_type": "code",
      "metadata": {
        "id": "78GLFPVffpao"
      },
      "source": [
        "dataloader = torch.utils.data.DataLoader(dataset_cifar,\n",
        "                                        batch_size = 16,\n",
        "                                        shuffle = True,\n",
        "                                        num_workers = 2)"
      ],
      "execution_count": null,
      "outputs": []
    },
    {
      "cell_type": "markdown",
      "metadata": {
        "id": "Mj8bza5xf0KG"
      },
      "source": [
        "Seleccionamos algunas imagenes"
      ]
    },
    {
      "cell_type": "code",
      "metadata": {
        "colab": {
          "base_uri": "https://localhost:8080/"
        },
        "id": "YWaPeVKafxvz",
        "outputId": "41516aec-6d2a-47cd-aff9-6b787b2cc17d"
      },
      "source": [
        "images_batch,label_batch = iter(dataloader).next()\n",
        "images_batch.shape"
      ],
      "execution_count": null,
      "outputs": [
        {
          "output_type": "execute_result",
          "data": {
            "text/plain": [
              "torch.Size([16, 3, 256, 256])"
            ]
          },
          "metadata": {},
          "execution_count": 38
        }
      ]
    },
    {
      "cell_type": "markdown",
      "metadata": {
        "id": "R1oVYrp-f9d7"
      },
      "source": [
        "Se puede ver que las 16 imagenes (tamaño de batch) poseen 3 canales (RGB) y son de 256*256 pixeles"
      ]
    },
    {
      "cell_type": "code",
      "metadata": {
        "colab": {
          "base_uri": "https://localhost:8080/"
        },
        "id": "IlFlu9Q3f3um",
        "outputId": "27dadcc0-35c8-45e6-befd-45da14e02666"
      },
      "source": [
        "img =  torchvision.utils.make_grid(images_batch)\n",
        "img.shape"
      ],
      "execution_count": null,
      "outputs": [
        {
          "output_type": "execute_result",
          "data": {
            "text/plain": [
              "torch.Size([3, 518, 2066])"
            ]
          },
          "metadata": {},
          "execution_count": 39
        }
      ]
    },
    {
      "cell_type": "markdown",
      "metadata": {
        "id": "9-dVLzdjgEAa"
      },
      "source": [
        "Cambiamos la forma del batch para que se pueda graficar."
      ]
    },
    {
      "cell_type": "code",
      "metadata": {
        "colab": {
          "base_uri": "https://localhost:8080/"
        },
        "id": "MoFn7hF5f_b5",
        "outputId": "5e959d69-f035-4b1c-d1dd-ad70a74d8435"
      },
      "source": [
        "img = np.transpose(img,(1,2,0))\n",
        "img.shape"
      ],
      "execution_count": null,
      "outputs": [
        {
          "output_type": "execute_result",
          "data": {
            "text/plain": [
              "torch.Size([518, 2066, 3])"
            ]
          },
          "metadata": {},
          "execution_count": 40
        }
      ]
    },
    {
      "cell_type": "code",
      "metadata": {
        "colab": {
          "base_uri": "https://localhost:8080/",
          "height": 294
        },
        "id": "zKSc1E9lgF1k",
        "outputId": "e6a2bd16-bf4d-4974-9648-a77183f1d88f"
      },
      "source": [
        "plt.figure(figsize=(16,12))\n",
        "\n",
        "plt.imshow(img)"
      ],
      "execution_count": null,
      "outputs": [
        {
          "output_type": "execute_result",
          "data": {
            "text/plain": [
              "<matplotlib.image.AxesImage at 0x7f1880f58e50>"
            ]
          },
          "metadata": {},
          "execution_count": 41
        },
        {
          "output_type": "display_data",
          "data": {
            "image/png": "[encoded data removed]",
            "text/plain": [
              "<Figure size 1152x864 with 1 Axes>"
            ]
          },
          "metadata": {
            "needs_background": "light"
          }
        }
      ]
    },
    {
      "cell_type": "markdown",
      "metadata": {
        "id": "nR5CKZsHgMfa"
      },
      "source": [
        "Calculamos la media y la desviación estandar para realizar batch normalization, esto nos permite estandarizan el input entre capas."
      ]
    },
    {
      "cell_type": "code",
      "metadata": {
        "id": "KKvqiudYgHSB"
      },
      "source": [
        "pop_mean = []\n",
        "pop_std = []\n",
        "\n",
        "for i,data in enumerate(dataloader, 0):\n",
        "\n",
        "    numpy_image = data[0].numpy()\n",
        "\n",
        "    batch_mean =  np.mean(numpy_image, axis = (0,2,3))\n",
        "\n",
        "    batch_std = np.std(numpy_image, axis = (0,2,3))\n",
        "\n",
        "    pop_mean.append(batch_mean)\n",
        "    pop_std.append(batch_std)\n",
        "\n",
        "pop_mean = np.array(pop_mean)\n",
        "pop_std = np.array(pop_std)\n",
        "\n",
        "pop_mean = pop_mean.mean(axis = 0)\n",
        "pop_std = pop_std.mean(axis = 0)"
      ],
      "execution_count": null,
      "outputs": []
    },
    {
      "cell_type": "markdown",
      "metadata": {
        "id": "Q6kbYIMqgTAU"
      },
      "source": [
        "Tando pop_mean como pop_std tienen tres elementos por cada canal."
      ]
    },
    {
      "cell_type": "markdown",
      "metadata": {
        "id": "ps3yfvWYgV2m"
      },
      "source": [
        "Iniciamos nuestro tranformador, este elemento nos permite realizar tareas de porcesamiento a nuestros datos."
      ]
    },
    {
      "cell_type": "code",
      "metadata": {
        "id": "o6L6bGuggWhV"
      },
      "source": [
        "transformer_train = transforms.Compose([\n",
        "              transforms.Resize(32),\n",
        "              transforms.RandomHorizontalFlip(),\n",
        "              transforms.ToTensor(),\n",
        "              transforms.Normalize(pop_mean,pop_std)\n",
        "])\n",
        "\n",
        "transformer_test = transforms.Compose([\n",
        "              transforms.Resize(32),\n",
        "              \n",
        "              transforms.ToTensor(),\n",
        "              transforms.Normalize(pop_mean,pop_std)\n",
        "])"
      ],
      "execution_count": null,
      "outputs": []
    },
    {
      "cell_type": "code",
      "metadata": {
        "colab": {
          "base_uri": "https://localhost:8080/"
        },
        "id": "5ifn8qT0gdrJ",
        "outputId": "90cc80bc-c97a-4a31-ee1e-d67f416c1406"
      },
      "source": [
        "trainset = torchvision.datasets.CIFAR10(root = './image-classification-pytorch/datasets/cifar10/train',download=True,train = True,transform = transformer_train)\n",
        "testset = torchvision.datasets.CIFAR10(root = './image-classification-pytorch/datasets/cifar10/train',download=True,train = False,transform = transformer_train)"
      ],
      "execution_count": null,
      "outputs": [
        {
          "output_type": "stream",
          "name": "stdout",
          "text": [
            "Files already downloaded and verified\n",
            "Files already downloaded and verified\n"
          ]
        }
      ]
    },
    {
      "cell_type": "code",
      "metadata": {
        "colab": {
          "base_uri": "https://localhost:8080/"
        },
        "id": "ei-Nu5Pgd6kM",
        "outputId": "1b07e208-d599-4f69-80aa-1a9cad2c0795"
      },
      "source": [
        "trainset.data.shape"
      ],
      "execution_count": null,
      "outputs": [
        {
          "output_type": "execute_result",
          "data": {
            "text/plain": [
              "(50000, 32, 32, 3)"
            ]
          },
          "metadata": {},
          "execution_count": 45
        }
      ]
    },
    {
      "cell_type": "code",
      "metadata": {
        "id": "3oNd05MEgPYW"
      },
      "source": [
        "trainset_nn = trainset.data/255.\n",
        "trainset_nn = trainset_nn.reshape(-1,32*32*3)\n",
        "\n",
        "testset_nn = testset.data/255.\n",
        "testset_nn = testset_nn.reshape(-1,32*32*3)\n",
        "\n",
        "\n",
        "\n",
        "trainset_nn = torch.tensor(trainset_nn).float().to(device)\n",
        "\n",
        "testset_nn = torch.tensor(testset_nn).float().to(device)"
      ],
      "execution_count": null,
      "outputs": []
    },
    {
      "cell_type": "code",
      "metadata": {
        "id": "MXkoeBQ-g91G"
      },
      "source": [
        "target_tr_nn = torch.tensor(trainset.targets)\n",
        "target_ts_nn = torch.tensor(testset.targets)"
      ],
      "execution_count": null,
      "outputs": []
    },
    {
      "cell_type": "code",
      "metadata": {
        "id": "dEuRkG3aeH5w"
      },
      "source": [
        "\n",
        "trainset_nn = trainset_nn.to(device)\n",
        "testset_nn = testset_nn.to(device)"
      ],
      "execution_count": null,
      "outputs": []
    },
    {
      "cell_type": "markdown",
      "metadata": {
        "id": "mNX-tThyiV_d"
      },
      "source": [
        "# Conventional Network"
      ]
    },
    {
      "cell_type": "code",
      "metadata": {
        "id": "z0nDCaaxihAX"
      },
      "source": [
        "input_size = trainset_nn[0].shape[0]\n",
        "output_size = len(list(set(trainset.targets)))\n",
        "\n",
        "hidden_size_1 = 64 \n",
        "hidden_size_2 = 128\n",
        "hidden_size_3 = 256\n",
        "hidden_size_4 = 512"
      ],
      "execution_count": null,
      "outputs": []
    },
    {
      "cell_type": "code",
      "metadata": {
        "colab": {
          "base_uri": "https://localhost:8080/"
        },
        "id": "IXbzXkWsmG7E",
        "outputId": "23699504-3b83-4986-c526-9cef32599d46"
      },
      "source": [
        "output_size"
      ],
      "execution_count": null,
      "outputs": [
        {
          "output_type": "execute_result",
          "data": {
            "text/plain": [
              "10"
            ]
          },
          "metadata": {},
          "execution_count": 50
        }
      ]
    },
    {
      "cell_type": "code",
      "metadata": {
        "id": "CAE1LHEFiDvO"
      },
      "source": [
        "class ImgClf_CIFAR(nn.Module):\n",
        "\n",
        "    def __init__(self):\n",
        "\n",
        "\n",
        "        super(ImgClf_CIFAR,self).__init__()\n",
        "\n",
        "        self.fc1 = nn.Linear(input_size,hidden_size_1)\n",
        "        self.fc2 = nn.Linear(hidden_size_1,hidden_size_2)\n",
        "        self.fc3 = nn.Linear(hidden_size_2,hidden_size_3)\n",
        "        self.fc4 = nn.Linear(hidden_size_3,hidden_size_4)\n",
        "        self.fc5 = nn.Linear(hidden_size_4,output_size)\n",
        "\n",
        "\n",
        "    def forward(self,x):\n",
        "\n",
        "        x = torch.sigmoid(self.fc1(x))\n",
        "        x = torch.sigmoid(self.fc2(x))\n",
        "        x = torch.sigmoid(self.fc3(x))\n",
        "        x = torch.sigmoid(self.fc4(x))\n",
        "\n",
        "        x = self.fc5(x)\n",
        "\n",
        "        return torch.log_softmax(x,dim = -1)"
      ],
      "execution_count": null,
      "outputs": []
    },
    {
      "cell_type": "code",
      "metadata": {
        "id": "EZpw3R27irAN"
      },
      "source": [
        "\n",
        "model_nn_cifar = ImgClf_CIFAR()"
      ],
      "execution_count": null,
      "outputs": []
    },
    {
      "cell_type": "code",
      "metadata": {
        "colab": {
          "base_uri": "https://localhost:8080/"
        },
        "id": "i6ONYhZbjR2C",
        "outputId": "d879be76-c6dc-4631-daef-9f4741ac0af6"
      },
      "source": [
        "model_nn_cifar.to(device)"
      ],
      "execution_count": null,
      "outputs": [
        {
          "output_type": "execute_result",
          "data": {
            "text/plain": [
              "ImgClf_CIFAR(\n",
              "  (fc1): Linear(in_features=3072, out_features=64, bias=True)\n",
              "  (fc2): Linear(in_features=64, out_features=128, bias=True)\n",
              "  (fc3): Linear(in_features=128, out_features=256, bias=True)\n",
              "  (fc4): Linear(in_features=256, out_features=512, bias=True)\n",
              "  (fc5): Linear(in_features=512, out_features=10, bias=True)\n",
              ")"
            ]
          },
          "metadata": {},
          "execution_count": 53
        }
      ]
    },
    {
      "cell_type": "code",
      "metadata": {
        "id": "IMKZTIuIjZCv"
      },
      "source": [
        "import torch.optim as optim\n",
        "\n",
        "optimizer_cifar = optim.Adam(model_nn_cifar.parameters(),lr = 0.001)\n",
        "\n",
        "loss_fn = nn.NLLLoss()"
      ],
      "execution_count": null,
      "outputs": []
    },
    {
      "cell_type": "code",
      "metadata": {
        "colab": {
          "base_uri": "https://localhost:8080/"
        },
        "id": "PAQRJyNJjfaU",
        "outputId": "7cff84da-6dbc-4231-c48a-adf7ce8e774f"
      },
      "source": [
        "epochs = 1500\n",
        "\n",
        "for epoch in range(1,epochs+1):\n",
        "\n",
        "    optimizer_cifar.zero_grad()\n",
        "\n",
        "    y_pred = model_nn_cifar(torch.tensor(trainset_nn).float().to(device))\n",
        "\n",
        "    loss = loss_fn(y_pred,target_tr_nn.to(device))\n",
        "\n",
        "    loss.backward()\n",
        "\n",
        "    optimizer_cifar.step()\n",
        "\n",
        "    if epoch % 10 == 0:\n",
        "\n",
        "        print(f'Epoch - {epoch}, loss {loss.item()} ')"
      ],
      "execution_count": null,
      "outputs": [
        {
          "output_type": "stream",
          "name": "stderr",
          "text": [
            "/usr/local/lib/python3.7/dist-packages/ipykernel_launcher.py:7: UserWarning: To copy construct from a tensor, it is recommended to use sourceTensor.clone().detach() or sourceTensor.clone().detach().requires_grad_(True), rather than torch.tensor(sourceTensor).\n",
            "  import sys\n"
          ]
        },
        {
          "output_type": "stream",
          "name": "stdout",
          "text": [
            "Epoch - 10, loss 2.30837345123291 \n",
            "Epoch - 20, loss 2.3014228343963623 \n",
            "Epoch - 30, loss 2.288689613342285 \n",
            "Epoch - 40, loss 2.2091307640075684 \n",
            "Epoch - 50, loss 2.0748064517974854 \n",
            "Epoch - 60, loss 2.0573277473449707 \n",
            "Epoch - 70, loss 2.0485870838165283 \n",
            "Epoch - 80, loss 2.0384607315063477 \n",
            "Epoch - 90, loss 2.026235818862915 \n",
            "Epoch - 100, loss 2.0129311084747314 \n",
            "Epoch - 110, loss 1.9993222951889038 \n",
            "Epoch - 120, loss 1.9866673946380615 \n",
            "Epoch - 130, loss 1.9678703546524048 \n",
            "Epoch - 140, loss 1.9488511085510254 \n",
            "Epoch - 150, loss 1.9145431518554688 \n",
            "Epoch - 160, loss 1.886749267578125 \n",
            "Epoch - 170, loss 1.8696953058242798 \n",
            "Epoch - 180, loss 1.8605101108551025 \n",
            "Epoch - 190, loss 1.8500975370407104 \n",
            "Epoch - 200, loss 1.839982509613037 \n",
            "Epoch - 210, loss 1.8391422033309937 \n",
            "Epoch - 220, loss 1.825350046157837 \n",
            "Epoch - 230, loss 1.813101053237915 \n",
            "Epoch - 240, loss 1.8051708936691284 \n",
            "Epoch - 250, loss 1.800203561782837 \n",
            "Epoch - 260, loss 1.787224531173706 \n",
            "Epoch - 270, loss 1.7767733335494995 \n",
            "Epoch - 280, loss 1.7679269313812256 \n",
            "Epoch - 290, loss 1.7584702968597412 \n",
            "Epoch - 300, loss 1.7503358125686646 \n",
            "Epoch - 310, loss 1.7385408878326416 \n",
            "Epoch - 320, loss 1.7341943979263306 \n",
            "Epoch - 330, loss 1.7269155979156494 \n",
            "Epoch - 340, loss 1.7172930240631104 \n",
            "Epoch - 350, loss 1.7131561040878296 \n",
            "Epoch - 360, loss 1.7063578367233276 \n",
            "Epoch - 370, loss 1.6985408067703247 \n",
            "Epoch - 380, loss 1.6888761520385742 \n",
            "Epoch - 390, loss 1.699858546257019 \n",
            "Epoch - 400, loss 1.6838048696517944 \n",
            "Epoch - 410, loss 1.6696925163269043 \n",
            "Epoch - 420, loss 1.662652611732483 \n",
            "Epoch - 430, loss 1.6928057670593262 \n",
            "Epoch - 440, loss 1.6725263595581055 \n",
            "Epoch - 450, loss 1.6492935419082642 \n",
            "Epoch - 460, loss 1.6407551765441895 \n",
            "Epoch - 470, loss 1.6316684484481812 \n",
            "Epoch - 480, loss 1.635010838508606 \n",
            "Epoch - 490, loss 1.63645339012146 \n",
            "Epoch - 500, loss 1.623365044593811 \n",
            "Epoch - 510, loss 1.6149803400039673 \n",
            "Epoch - 520, loss 1.6500298976898193 \n",
            "Epoch - 530, loss 1.6138485670089722 \n",
            "Epoch - 540, loss 1.6033904552459717 \n",
            "Epoch - 550, loss 1.5975381135940552 \n",
            "Epoch - 560, loss 1.5936661958694458 \n",
            "Epoch - 570, loss 1.5939918756484985 \n",
            "Epoch - 580, loss 1.59261155128479 \n",
            "Epoch - 590, loss 1.6008199453353882 \n",
            "Epoch - 600, loss 1.5798568725585938 \n",
            "Epoch - 610, loss 1.5784378051757812 \n",
            "Epoch - 620, loss 1.5890824794769287 \n",
            "Epoch - 630, loss 1.5883264541625977 \n",
            "Epoch - 640, loss 1.5699542760849 \n",
            "Epoch - 650, loss 1.5732126235961914 \n",
            "Epoch - 660, loss 1.573504090309143 \n",
            "Epoch - 670, loss 1.5711638927459717 \n",
            "Epoch - 680, loss 1.5596235990524292 \n",
            "Epoch - 690, loss 1.5598952770233154 \n",
            "Epoch - 700, loss 1.5580135583877563 \n",
            "Epoch - 710, loss 1.589425802230835 \n",
            "Epoch - 720, loss 1.5498789548873901 \n",
            "Epoch - 730, loss 1.5484408140182495 \n",
            "Epoch - 740, loss 1.5371103286743164 \n",
            "Epoch - 750, loss 1.5550715923309326 \n",
            "Epoch - 760, loss 1.5402553081512451 \n",
            "Epoch - 770, loss 1.53046715259552 \n",
            "Epoch - 780, loss 1.5274629592895508 \n",
            "Epoch - 790, loss 1.5220470428466797 \n",
            "Epoch - 800, loss 1.5270740985870361 \n",
            "Epoch - 810, loss 1.5303645133972168 \n",
            "Epoch - 820, loss 1.5154197216033936 \n",
            "Epoch - 830, loss 1.5205410718917847 \n",
            "Epoch - 840, loss 1.5176798105239868 \n",
            "Epoch - 850, loss 1.514285922050476 \n",
            "Epoch - 860, loss 1.5201516151428223 \n",
            "Epoch - 870, loss 1.518625259399414 \n",
            "Epoch - 880, loss 1.5016021728515625 \n",
            "Epoch - 890, loss 1.5367906093597412 \n",
            "Epoch - 900, loss 1.5111210346221924 \n",
            "Epoch - 910, loss 1.5007357597351074 \n",
            "Epoch - 920, loss 1.4887844324111938 \n",
            "Epoch - 930, loss 1.4948863983154297 \n",
            "Epoch - 940, loss 1.4865859746932983 \n",
            "Epoch - 950, loss 1.4830372333526611 \n",
            "Epoch - 960, loss 1.4835667610168457 \n",
            "Epoch - 970, loss 1.4871107339859009 \n",
            "Epoch - 980, loss 1.4805940389633179 \n",
            "Epoch - 990, loss 1.5292506217956543 \n",
            "Epoch - 1000, loss 1.484263300895691 \n",
            "Epoch - 1010, loss 1.4772342443466187 \n",
            "Epoch - 1020, loss 1.4695888757705688 \n",
            "Epoch - 1030, loss 1.4824320077896118 \n",
            "Epoch - 1040, loss 1.4626271724700928 \n",
            "Epoch - 1050, loss 1.5100446939468384 \n",
            "Epoch - 1060, loss 1.4745240211486816 \n",
            "Epoch - 1070, loss 1.462145447731018 \n",
            "Epoch - 1080, loss 1.4544111490249634 \n",
            "Epoch - 1090, loss 1.4978190660476685 \n",
            "Epoch - 1100, loss 1.4701097011566162 \n",
            "Epoch - 1110, loss 1.4497909545898438 \n",
            "Epoch - 1120, loss 1.4419547319412231 \n",
            "Epoch - 1130, loss 1.4468837976455688 \n",
            "Epoch - 1140, loss 1.4944424629211426 \n",
            "Epoch - 1150, loss 1.4588271379470825 \n",
            "Epoch - 1160, loss 1.4470272064208984 \n",
            "Epoch - 1170, loss 1.4453601837158203 \n",
            "Epoch - 1180, loss 1.4562780857086182 \n",
            "Epoch - 1190, loss 1.426852822303772 \n",
            "Epoch - 1200, loss 1.4653058052062988 \n",
            "Epoch - 1210, loss 1.429330587387085 \n",
            "Epoch - 1220, loss 1.4759267568588257 \n",
            "Epoch - 1230, loss 1.425319790840149 \n",
            "Epoch - 1240, loss 1.4273219108581543 \n",
            "Epoch - 1250, loss 1.4165695905685425 \n",
            "Epoch - 1260, loss 1.4337712526321411 \n",
            "Epoch - 1270, loss 1.4187719821929932 \n",
            "Epoch - 1280, loss 1.4284921884536743 \n",
            "Epoch - 1290, loss 1.4148445129394531 \n",
            "Epoch - 1300, loss 1.428807020187378 \n",
            "Epoch - 1310, loss 1.4088062047958374 \n",
            "Epoch - 1320, loss 1.413002610206604 \n",
            "Epoch - 1330, loss 1.4128937721252441 \n",
            "Epoch - 1340, loss 1.405343770980835 \n",
            "Epoch - 1350, loss 1.396295428276062 \n",
            "Epoch - 1360, loss 1.4112335443496704 \n",
            "Epoch - 1370, loss 1.4218125343322754 \n",
            "Epoch - 1380, loss 1.3964377641677856 \n",
            "Epoch - 1390, loss 1.3881173133850098 \n",
            "Epoch - 1400, loss 1.387814998626709 \n",
            "Epoch - 1410, loss 1.4060595035552979 \n",
            "Epoch - 1420, loss 1.3856983184814453 \n",
            "Epoch - 1430, loss 1.4546440839767456 \n",
            "Epoch - 1440, loss 1.390222191810608 \n",
            "Epoch - 1450, loss 1.3855887651443481 \n",
            "Epoch - 1460, loss 1.3822818994522095 \n",
            "Epoch - 1470, loss 1.3738398551940918 \n",
            "Epoch - 1480, loss 1.3712109327316284 \n",
            "Epoch - 1490, loss 1.4053057432174683 \n",
            "Epoch - 1500, loss 1.3904269933700562 \n"
          ]
        }
      ]
    },
    {
      "cell_type": "code",
      "metadata": {
        "id": "oJIRVOyLb1N9"
      },
      "source": [
        "resultados_eval_cifar = []"
      ],
      "execution_count": null,
      "outputs": []
    },
    {
      "cell_type": "code",
      "metadata": {
        "id": "48jgq6R7katF"
      },
      "source": [
        "model_nn_cifar.eval()\n",
        "\n",
        "with torch.no_grad():\n",
        "      \n",
        "      correct = 0\n",
        "      \n",
        "      total = 0\n",
        "\n",
        "      labels = target_ts_nn\n",
        "      \n",
        "      #for images in testset_nn:\n",
        "      \n",
        "      test_output = model_nn_cifar(testset_nn)\n",
        "  \n",
        "      pred_y  = torch.max(test_output, 1)[1].data.squeeze()\n",
        "  \n",
        "      \n",
        "      acc = accuracy_score(pred_y.detach().cpu().numpy(),labels.detach().cpu().numpy())\n",
        "      recall = recall_score(pred_y.detach().cpu().numpy(),labels.detach().cpu().numpy(),average='weighted') \n",
        "      precision = precision_score(pred_y.detach().cpu().numpy(),labels.detach().cpu().numpy(),average='weighted')\n",
        "\n",
        "      #print('acc',acc)\n",
        "      #print('precison', precision)\n",
        "      #print('recall', recall)\n",
        "\n",
        "      acc = np.mean(np.array(acc))\n",
        "      recall = np.mean(np.array(recall))\n",
        "      precision = np.mean(np.array(precision))\n",
        "\n",
        "resultados_eval_cifar.append([acc,precision,recall])"
      ],
      "execution_count": null,
      "outputs": []
    },
    {
      "cell_type": "code",
      "metadata": {
        "colab": {
          "base_uri": "https://localhost:8080/"
        },
        "id": "xIfX8dGDfcRO",
        "outputId": "797e7183-2fb9-4a35-a980-d4e16d12b1f3"
      },
      "source": [
        "resultados_eval_cifar"
      ],
      "execution_count": null,
      "outputs": [
        {
          "output_type": "execute_result",
          "data": {
            "text/plain": [
              "[[0.4243, 0.46241680000000007, 0.4243]]"
            ]
          },
          "metadata": {},
          "execution_count": 61
        }
      ]
    },
    {
      "cell_type": "markdown",
      "metadata": {
        "id": "5fUmw860cI29"
      },
      "source": [
        "Convolutional Network CIFAR"
      ]
    },
    {
      "cell_type": "code",
      "metadata": {
        "id": "x9rsg0TscHwb"
      },
      "source": [
        "trainloader_cifar = torch.utils.data.DataLoader(trainset,batch_size = 16,shuffle = True,num_workers = 2)\n",
        "testloader_cifar = torch.utils.data.DataLoader(testset,batch_size = 16,shuffle = True ,num_workers = 2)"
      ],
      "execution_count": null,
      "outputs": []
    },
    {
      "cell_type": "code",
      "metadata": {
        "id": "2QHsoZtGfyGy"
      },
      "source": [
        "input_size = 3\n",
        "output_size = 10\n",
        "\n",
        "hidden_size_1 = 16\n",
        "hidden_size_2 = 32\n",
        "\n",
        "out_size_1 = 400\n",
        "out_size_2 = 10\n",
        "\n",
        "K_conv_size = 5\n"
      ],
      "execution_count": null,
      "outputs": []
    },
    {
      "cell_type": "code",
      "metadata": {
        "id": "SJfV4WjbgIz6"
      },
      "source": [
        "class CNN_CIFAR(nn.Module):\n",
        "\n",
        "  def __init__(self):\n",
        "    super(CNN_CIFAR,self).__init__()\n",
        "\n",
        "\n",
        "    self.layer1 = nn.Sequential(\n",
        "        nn.Conv2d(input_size,hidden_size_1,K_conv_size),\n",
        "        nn.BatchNorm2d(hidden_size_1),\n",
        "        nn.ReLU(),\n",
        "        nn.MaxPool2d(kernel_size = 2)\n",
        "    )\n",
        "\n",
        "    self.layer2 = nn.Sequential(\n",
        "        nn.Conv2d(hidden_size_1,hidden_size_2,K_conv_size),\n",
        "        nn.BatchNorm2d(hidden_size_2),\n",
        "        nn.ReLU(),\n",
        "        nn.MaxPool2d(kernel_size = 2)\n",
        "    )\n",
        "\n",
        "    self.layer3 = nn.Sequential(\n",
        "        nn.Linear(hidden_size_2 * K_conv_size*K_conv_size,out_size_1),\n",
        "        nn.ReLU(),\n",
        "        nn.Dropout(0.2),\n",
        "        nn.Linear(out_size_1,out_size_2)\n",
        "\n",
        "    )    \n",
        "\n",
        "\n",
        "  def forward(self,x):\n",
        "\n",
        "    out = self.layer1(x)\n",
        "    out = self.layer2(out)\n",
        "\n",
        "    out = out.reshape(out.size(0),-1)\n",
        "\n",
        "    out = self.layer3(out)\n",
        "\n",
        "    return F.log_softmax(out,dim=-1)\n"
      ],
      "execution_count": null,
      "outputs": []
    },
    {
      "cell_type": "code",
      "metadata": {
        "colab": {
          "base_uri": "https://localhost:8080/"
        },
        "id": "XmXOtgCniTyF",
        "outputId": "0caf0183-fa97-48a1-f127-603f92b007c0"
      },
      "source": [
        "model_cnn_cifar = CNN_CIFAR()\n",
        "model_cnn_cifar.to(device)"
      ],
      "execution_count": null,
      "outputs": [
        {
          "output_type": "execute_result",
          "data": {
            "text/plain": [
              "CNN_CIFAR(\n",
              "  (layer1): Sequential(\n",
              "    (0): Conv2d(3, 16, kernel_size=(5, 5), stride=(1, 1))\n",
              "    (1): BatchNorm2d(16, eps=1e-05, momentum=0.1, affine=True, track_running_stats=True)\n",
              "    (2): ReLU()\n",
              "    (3): MaxPool2d(kernel_size=2, stride=2, padding=0, dilation=1, ceil_mode=False)\n",
              "  )\n",
              "  (layer2): Sequential(\n",
              "    (0): Conv2d(16, 32, kernel_size=(5, 5), stride=(1, 1))\n",
              "    (1): BatchNorm2d(32, eps=1e-05, momentum=0.1, affine=True, track_running_stats=True)\n",
              "    (2): ReLU()\n",
              "    (3): MaxPool2d(kernel_size=2, stride=2, padding=0, dilation=1, ceil_mode=False)\n",
              "  )\n",
              "  (layer3): Sequential(\n",
              "    (0): Linear(in_features=800, out_features=400, bias=True)\n",
              "    (1): ReLU()\n",
              "    (2): Dropout(p=0.2, inplace=False)\n",
              "    (3): Linear(in_features=400, out_features=10, bias=True)\n",
              "  )\n",
              ")"
            ]
          },
          "metadata": {},
          "execution_count": 65
        }
      ]
    },
    {
      "cell_type": "code",
      "metadata": {
        "id": "kcQ9BbZUh_LG"
      },
      "source": [
        "optimizer_cnn = torch.optim.Adam(model_cnn_cifar.parameters(),lr = 0.001)\n",
        "\n",
        "criterion = nn.NLLLoss()  \n"
      ],
      "execution_count": null,
      "outputs": []
    },
    {
      "cell_type": "code",
      "metadata": {
        "colab": {
          "base_uri": "https://localhost:8080/"
        },
        "id": "V0YNNvP3iQ6s",
        "outputId": "df12c167-b15b-48e0-90ef-5b09fd1a2e06"
      },
      "source": [
        "\n",
        "num_epochs = 10\n",
        "\n",
        "model_cnn_cifar.train()\n",
        "    \n",
        "\n",
        "total_step = len(trainloader_cifar)\n",
        "    \n",
        "for epoch in range(num_epochs):\n",
        "\n",
        "    for i, (images, labels) in enumerate(trainloader_cifar):\n",
        "        \n",
        "        images, labels = images.to(device), labels.to(device) \n",
        "        output = model_cnn_cifar(images)               \n",
        "        loss = criterion(output, labels)\n",
        "        \n",
        "        \n",
        "        optimizer_cnn.zero_grad()           \n",
        "        \n",
        "        loss.backward()    \n",
        "                    \n",
        "        optimizer_cnn.step()                \n",
        "        \n",
        "        if (i+1) % 100 == 0:\n",
        "            print ('Epoch [{}/{}], Step [{}/{}], Loss: {:.4f}' \n",
        "                    .format(epoch + 1, num_epochs, i + 1, total_step, loss.item()))"
      ],
      "execution_count": null,
      "outputs": [
        {
          "output_type": "stream",
          "name": "stdout",
          "text": [
            "Epoch [1/10], Step [100/3125], Loss: 1.9015\n",
            "Epoch [1/10], Step [200/3125], Loss: 1.9199\n",
            "Epoch [1/10], Step [300/3125], Loss: 1.7374\n",
            "Epoch [1/10], Step [400/3125], Loss: 1.6084\n",
            "Epoch [1/10], Step [500/3125], Loss: 1.1978\n",
            "Epoch [1/10], Step [600/3125], Loss: 1.4928\n",
            "Epoch [1/10], Step [700/3125], Loss: 1.1065\n",
            "Epoch [1/10], Step [800/3125], Loss: 1.4944\n",
            "Epoch [1/10], Step [900/3125], Loss: 1.5002\n",
            "Epoch [1/10], Step [1000/3125], Loss: 1.6518\n",
            "Epoch [1/10], Step [1100/3125], Loss: 1.0316\n",
            "Epoch [1/10], Step [1200/3125], Loss: 1.6580\n",
            "Epoch [1/10], Step [1300/3125], Loss: 1.4864\n",
            "Epoch [1/10], Step [1400/3125], Loss: 1.5708\n",
            "Epoch [1/10], Step [1500/3125], Loss: 1.2627\n",
            "Epoch [1/10], Step [1600/3125], Loss: 1.4566\n",
            "Epoch [1/10], Step [1700/3125], Loss: 1.0571\n",
            "Epoch [1/10], Step [1800/3125], Loss: 1.5074\n",
            "Epoch [1/10], Step [1900/3125], Loss: 1.1733\n",
            "Epoch [1/10], Step [2000/3125], Loss: 1.2425\n",
            "Epoch [1/10], Step [2100/3125], Loss: 1.3335\n",
            "Epoch [1/10], Step [2200/3125], Loss: 1.1665\n",
            "Epoch [1/10], Step [2300/3125], Loss: 1.1712\n",
            "Epoch [1/10], Step [2400/3125], Loss: 1.0949\n",
            "Epoch [1/10], Step [2500/3125], Loss: 1.2277\n",
            "Epoch [1/10], Step [2600/3125], Loss: 1.8961\n",
            "Epoch [1/10], Step [2700/3125], Loss: 1.0728\n",
            "Epoch [1/10], Step [2800/3125], Loss: 1.4811\n",
            "Epoch [1/10], Step [2900/3125], Loss: 1.0626\n",
            "Epoch [1/10], Step [3000/3125], Loss: 1.0822\n",
            "Epoch [1/10], Step [3100/3125], Loss: 1.0800\n",
            "Epoch [2/10], Step [100/3125], Loss: 1.4865\n",
            "Epoch [2/10], Step [200/3125], Loss: 1.1035\n",
            "Epoch [2/10], Step [300/3125], Loss: 0.7779\n",
            "Epoch [2/10], Step [400/3125], Loss: 0.9367\n",
            "Epoch [2/10], Step [500/3125], Loss: 0.8063\n",
            "Epoch [2/10], Step [600/3125], Loss: 1.1254\n",
            "Epoch [2/10], Step [700/3125], Loss: 1.2270\n",
            "Epoch [2/10], Step [800/3125], Loss: 1.0825\n",
            "Epoch [2/10], Step [900/3125], Loss: 1.0624\n",
            "Epoch [2/10], Step [1000/3125], Loss: 1.0588\n",
            "Epoch [2/10], Step [1100/3125], Loss: 0.8476\n",
            "Epoch [2/10], Step [1200/3125], Loss: 0.8347\n",
            "Epoch [2/10], Step [1300/3125], Loss: 1.0094\n",
            "Epoch [2/10], Step [1400/3125], Loss: 0.8147\n",
            "Epoch [2/10], Step [1500/3125], Loss: 0.8508\n",
            "Epoch [2/10], Step [1600/3125], Loss: 0.9922\n",
            "Epoch [2/10], Step [1700/3125], Loss: 1.0187\n",
            "Epoch [2/10], Step [1800/3125], Loss: 0.8336\n",
            "Epoch [2/10], Step [1900/3125], Loss: 0.8638\n",
            "Epoch [2/10], Step [2000/3125], Loss: 1.0308\n",
            "Epoch [2/10], Step [2100/3125], Loss: 1.2624\n",
            "Epoch [2/10], Step [2200/3125], Loss: 0.8532\n",
            "Epoch [2/10], Step [2300/3125], Loss: 0.9775\n",
            "Epoch [2/10], Step [2400/3125], Loss: 1.3174\n",
            "Epoch [2/10], Step [2500/3125], Loss: 1.2359\n",
            "Epoch [2/10], Step [2600/3125], Loss: 0.6617\n",
            "Epoch [2/10], Step [2700/3125], Loss: 0.8699\n",
            "Epoch [2/10], Step [2800/3125], Loss: 1.0588\n",
            "Epoch [2/10], Step [2900/3125], Loss: 0.9816\n",
            "Epoch [2/10], Step [3000/3125], Loss: 0.8029\n",
            "Epoch [2/10], Step [3100/3125], Loss: 1.2171\n",
            "Epoch [3/10], Step [100/3125], Loss: 1.0997\n",
            "Epoch [3/10], Step [200/3125], Loss: 0.9870\n",
            "Epoch [3/10], Step [300/3125], Loss: 1.1500\n",
            "Epoch [3/10], Step [400/3125], Loss: 0.8470\n",
            "Epoch [3/10], Step [500/3125], Loss: 1.2492\n",
            "Epoch [3/10], Step [600/3125], Loss: 1.4775\n",
            "Epoch [3/10], Step [700/3125], Loss: 0.7969\n",
            "Epoch [3/10], Step [800/3125], Loss: 1.0415\n",
            "Epoch [3/10], Step [900/3125], Loss: 1.1963\n",
            "Epoch [3/10], Step [1000/3125], Loss: 0.8073\n",
            "Epoch [3/10], Step [1100/3125], Loss: 1.0373\n",
            "Epoch [3/10], Step [1200/3125], Loss: 1.7318\n",
            "Epoch [3/10], Step [1300/3125], Loss: 1.1087\n",
            "Epoch [3/10], Step [1400/3125], Loss: 0.9110\n",
            "Epoch [3/10], Step [1500/3125], Loss: 1.3742\n",
            "Epoch [3/10], Step [1600/3125], Loss: 1.1748\n",
            "Epoch [3/10], Step [1700/3125], Loss: 1.1106\n",
            "Epoch [3/10], Step [1800/3125], Loss: 0.6263\n",
            "Epoch [3/10], Step [1900/3125], Loss: 1.2093\n",
            "Epoch [3/10], Step [2000/3125], Loss: 0.8426\n",
            "Epoch [3/10], Step [2100/3125], Loss: 0.7236\n",
            "Epoch [3/10], Step [2200/3125], Loss: 0.6760\n",
            "Epoch [3/10], Step [2300/3125], Loss: 0.6016\n",
            "Epoch [3/10], Step [2400/3125], Loss: 1.0716\n",
            "Epoch [3/10], Step [2500/3125], Loss: 1.3591\n",
            "Epoch [3/10], Step [2600/3125], Loss: 1.1188\n",
            "Epoch [3/10], Step [2700/3125], Loss: 1.4959\n",
            "Epoch [3/10], Step [2800/3125], Loss: 1.1629\n",
            "Epoch [3/10], Step [2900/3125], Loss: 0.6458\n",
            "Epoch [3/10], Step [3000/3125], Loss: 1.0817\n",
            "Epoch [3/10], Step [3100/3125], Loss: 1.1596\n",
            "Epoch [4/10], Step [100/3125], Loss: 0.5998\n",
            "Epoch [4/10], Step [200/3125], Loss: 1.3675\n",
            "Epoch [4/10], Step [300/3125], Loss: 0.7960\n",
            "Epoch [4/10], Step [400/3125], Loss: 0.9767\n",
            "Epoch [4/10], Step [500/3125], Loss: 0.7243\n",
            "Epoch [4/10], Step [600/3125], Loss: 1.1726\n",
            "Epoch [4/10], Step [700/3125], Loss: 1.2407\n",
            "Epoch [4/10], Step [800/3125], Loss: 0.8243\n",
            "Epoch [4/10], Step [900/3125], Loss: 0.8166\n",
            "Epoch [4/10], Step [1000/3125], Loss: 0.6755\n",
            "Epoch [4/10], Step [1100/3125], Loss: 0.8635\n",
            "Epoch [4/10], Step [1200/3125], Loss: 0.4606\n",
            "Epoch [4/10], Step [1300/3125], Loss: 0.3671\n",
            "Epoch [4/10], Step [1400/3125], Loss: 0.9565\n",
            "Epoch [4/10], Step [1500/3125], Loss: 0.5546\n",
            "Epoch [4/10], Step [1600/3125], Loss: 0.9580\n",
            "Epoch [4/10], Step [1700/3125], Loss: 1.1674\n",
            "Epoch [4/10], Step [1800/3125], Loss: 1.4045\n",
            "Epoch [4/10], Step [1900/3125], Loss: 0.9915\n",
            "Epoch [4/10], Step [2000/3125], Loss: 0.6110\n",
            "Epoch [4/10], Step [2100/3125], Loss: 0.8782\n",
            "Epoch [4/10], Step [2200/3125], Loss: 1.2202\n",
            "Epoch [4/10], Step [2300/3125], Loss: 0.5494\n",
            "Epoch [4/10], Step [2400/3125], Loss: 0.7226\n",
            "Epoch [4/10], Step [2500/3125], Loss: 0.8222\n",
            "Epoch [4/10], Step [2600/3125], Loss: 0.6557\n",
            "Epoch [4/10], Step [2700/3125], Loss: 0.8070\n",
            "Epoch [4/10], Step [2800/3125], Loss: 0.8599\n",
            "Epoch [4/10], Step [2900/3125], Loss: 1.2701\n",
            "Epoch [4/10], Step [3000/3125], Loss: 1.0225\n",
            "Epoch [4/10], Step [3100/3125], Loss: 0.7295\n",
            "Epoch [5/10], Step [100/3125], Loss: 0.5969\n",
            "Epoch [5/10], Step [200/3125], Loss: 1.1516\n",
            "Epoch [5/10], Step [300/3125], Loss: 0.4102\n",
            "Epoch [5/10], Step [400/3125], Loss: 1.5336\n",
            "Epoch [5/10], Step [500/3125], Loss: 0.3004\n",
            "Epoch [5/10], Step [600/3125], Loss: 0.9136\n",
            "Epoch [5/10], Step [700/3125], Loss: 0.3737\n",
            "Epoch [5/10], Step [800/3125], Loss: 1.3601\n",
            "Epoch [5/10], Step [900/3125], Loss: 0.9465\n",
            "Epoch [5/10], Step [1000/3125], Loss: 1.0815\n",
            "Epoch [5/10], Step [1100/3125], Loss: 0.9325\n",
            "Epoch [5/10], Step [1200/3125], Loss: 0.9405\n",
            "Epoch [5/10], Step [1300/3125], Loss: 0.4460\n",
            "Epoch [5/10], Step [1400/3125], Loss: 0.4851\n",
            "Epoch [5/10], Step [1500/3125], Loss: 0.9747\n",
            "Epoch [5/10], Step [1600/3125], Loss: 0.6550\n",
            "Epoch [5/10], Step [1700/3125], Loss: 1.2631\n",
            "Epoch [5/10], Step [1800/3125], Loss: 0.8103\n",
            "Epoch [5/10], Step [1900/3125], Loss: 0.8455\n",
            "Epoch [5/10], Step [2000/3125], Loss: 0.6269\n",
            "Epoch [5/10], Step [2100/3125], Loss: 0.4164\n",
            "Epoch [5/10], Step [2200/3125], Loss: 0.7246\n",
            "Epoch [5/10], Step [2300/3125], Loss: 0.4989\n",
            "Epoch [5/10], Step [2400/3125], Loss: 1.3235\n",
            "Epoch [5/10], Step [2500/3125], Loss: 0.6258\n",
            "Epoch [5/10], Step [2600/3125], Loss: 0.5780\n",
            "Epoch [5/10], Step [2700/3125], Loss: 0.4657\n",
            "Epoch [5/10], Step [2800/3125], Loss: 1.2024\n",
            "Epoch [5/10], Step [2900/3125], Loss: 0.8260\n",
            "Epoch [5/10], Step [3000/3125], Loss: 0.3616\n",
            "Epoch [5/10], Step [3100/3125], Loss: 1.2424\n",
            "Epoch [6/10], Step [100/3125], Loss: 0.8131\n",
            "Epoch [6/10], Step [200/3125], Loss: 0.7781\n",
            "Epoch [6/10], Step [300/3125], Loss: 0.7630\n",
            "Epoch [6/10], Step [400/3125], Loss: 0.8009\n",
            "Epoch [6/10], Step [500/3125], Loss: 0.5933\n",
            "Epoch [6/10], Step [600/3125], Loss: 0.6154\n",
            "Epoch [6/10], Step [700/3125], Loss: 0.9826\n",
            "Epoch [6/10], Step [800/3125], Loss: 1.0582\n",
            "Epoch [6/10], Step [900/3125], Loss: 0.9926\n",
            "Epoch [6/10], Step [1000/3125], Loss: 0.7680\n",
            "Epoch [6/10], Step [1100/3125], Loss: 0.7155\n",
            "Epoch [6/10], Step [1200/3125], Loss: 0.7623\n",
            "Epoch [6/10], Step [1300/3125], Loss: 0.8560\n",
            "Epoch [6/10], Step [1400/3125], Loss: 1.0785\n",
            "Epoch [6/10], Step [1500/3125], Loss: 0.9000\n",
            "Epoch [6/10], Step [1600/3125], Loss: 1.4824\n",
            "Epoch [6/10], Step [1700/3125], Loss: 0.6811\n",
            "Epoch [6/10], Step [1800/3125], Loss: 0.8444\n",
            "Epoch [6/10], Step [1900/3125], Loss: 0.7521\n",
            "Epoch [6/10], Step [2000/3125], Loss: 0.7989\n",
            "Epoch [6/10], Step [2100/3125], Loss: 0.7125\n",
            "Epoch [6/10], Step [2200/3125], Loss: 0.8413\n",
            "Epoch [6/10], Step [2300/3125], Loss: 0.8799\n",
            "Epoch [6/10], Step [2400/3125], Loss: 1.1861\n",
            "Epoch [6/10], Step [2500/3125], Loss: 0.1632\n",
            "Epoch [6/10], Step [2600/3125], Loss: 0.8900\n",
            "Epoch [6/10], Step [2700/3125], Loss: 0.9319\n",
            "Epoch [6/10], Step [2800/3125], Loss: 0.5042\n",
            "Epoch [6/10], Step [2900/3125], Loss: 0.4873\n",
            "Epoch [6/10], Step [3000/3125], Loss: 0.5973\n",
            "Epoch [6/10], Step [3100/3125], Loss: 0.8728\n",
            "Epoch [7/10], Step [100/3125], Loss: 1.0365\n",
            "Epoch [7/10], Step [200/3125], Loss: 0.3779\n",
            "Epoch [7/10], Step [300/3125], Loss: 1.0008\n",
            "Epoch [7/10], Step [400/3125], Loss: 0.4394\n",
            "Epoch [7/10], Step [500/3125], Loss: 0.3464\n",
            "Epoch [7/10], Step [600/3125], Loss: 1.0601\n",
            "Epoch [7/10], Step [700/3125], Loss: 0.5830\n",
            "Epoch [7/10], Step [800/3125], Loss: 0.3019\n",
            "Epoch [7/10], Step [900/3125], Loss: 1.0159\n",
            "Epoch [7/10], Step [1000/3125], Loss: 0.9098\n",
            "Epoch [7/10], Step [1100/3125], Loss: 0.6785\n",
            "Epoch [7/10], Step [1200/3125], Loss: 0.8718\n",
            "Epoch [7/10], Step [1300/3125], Loss: 0.5224\n",
            "Epoch [7/10], Step [1400/3125], Loss: 0.5412\n",
            "Epoch [7/10], Step [1500/3125], Loss: 0.8102\n",
            "Epoch [7/10], Step [1600/3125], Loss: 0.8855\n",
            "Epoch [7/10], Step [1700/3125], Loss: 1.0968\n",
            "Epoch [7/10], Step [1800/3125], Loss: 0.9995\n",
            "Epoch [7/10], Step [1900/3125], Loss: 1.0175\n",
            "Epoch [7/10], Step [2000/3125], Loss: 0.4316\n",
            "Epoch [7/10], Step [2100/3125], Loss: 0.5276\n",
            "Epoch [7/10], Step [2200/3125], Loss: 1.2188\n",
            "Epoch [7/10], Step [2300/3125], Loss: 0.6658\n",
            "Epoch [7/10], Step [2400/3125], Loss: 0.7446\n",
            "Epoch [7/10], Step [2500/3125], Loss: 0.5473\n",
            "Epoch [7/10], Step [2600/3125], Loss: 0.9805\n",
            "Epoch [7/10], Step [2700/3125], Loss: 0.5503\n",
            "Epoch [7/10], Step [2800/3125], Loss: 0.7941\n",
            "Epoch [7/10], Step [2900/3125], Loss: 0.6538\n",
            "Epoch [7/10], Step [3000/3125], Loss: 0.5709\n",
            "Epoch [7/10], Step [3100/3125], Loss: 0.5434\n",
            "Epoch [8/10], Step [100/3125], Loss: 0.7085\n",
            "Epoch [8/10], Step [200/3125], Loss: 0.3161\n",
            "Epoch [8/10], Step [300/3125], Loss: 1.1408\n",
            "Epoch [8/10], Step [400/3125], Loss: 0.6282\n",
            "Epoch [8/10], Step [500/3125], Loss: 1.1701\n",
            "Epoch [8/10], Step [600/3125], Loss: 0.8065\n",
            "Epoch [8/10], Step [700/3125], Loss: 1.0189\n",
            "Epoch [8/10], Step [800/3125], Loss: 0.7148\n",
            "Epoch [8/10], Step [900/3125], Loss: 0.4495\n",
            "Epoch [8/10], Step [1000/3125], Loss: 0.2510\n",
            "Epoch [8/10], Step [1100/3125], Loss: 1.1769\n",
            "Epoch [8/10], Step [1200/3125], Loss: 0.7863\n",
            "Epoch [8/10], Step [1300/3125], Loss: 0.5706\n",
            "Epoch [8/10], Step [1400/3125], Loss: 0.8456\n",
            "Epoch [8/10], Step [1500/3125], Loss: 0.5374\n",
            "Epoch [8/10], Step [1600/3125], Loss: 0.6909\n",
            "Epoch [8/10], Step [1700/3125], Loss: 0.8492\n",
            "Epoch [8/10], Step [1800/3125], Loss: 0.7626\n",
            "Epoch [8/10], Step [1900/3125], Loss: 0.6467\n",
            "Epoch [8/10], Step [2000/3125], Loss: 1.2858\n",
            "Epoch [8/10], Step [2100/3125], Loss: 0.5888\n",
            "Epoch [8/10], Step [2200/3125], Loss: 0.6310\n",
            "Epoch [8/10], Step [2300/3125], Loss: 1.6342\n",
            "Epoch [8/10], Step [2400/3125], Loss: 0.6218\n",
            "Epoch [8/10], Step [2500/3125], Loss: 1.0653\n",
            "Epoch [8/10], Step [2600/3125], Loss: 0.5731\n",
            "Epoch [8/10], Step [2700/3125], Loss: 1.1489\n",
            "Epoch [8/10], Step [2800/3125], Loss: 0.9480\n",
            "Epoch [8/10], Step [2900/3125], Loss: 1.0891\n",
            "Epoch [8/10], Step [3000/3125], Loss: 0.3645\n",
            "Epoch [8/10], Step [3100/3125], Loss: 0.8053\n",
            "Epoch [9/10], Step [100/3125], Loss: 0.6028\n",
            "Epoch [9/10], Step [200/3125], Loss: 0.9822\n",
            "Epoch [9/10], Step [300/3125], Loss: 0.7101\n",
            "Epoch [9/10], Step [400/3125], Loss: 0.2270\n",
            "Epoch [9/10], Step [500/3125], Loss: 0.4611\n",
            "Epoch [9/10], Step [600/3125], Loss: 0.7322\n",
            "Epoch [9/10], Step [700/3125], Loss: 0.5365\n",
            "Epoch [9/10], Step [800/3125], Loss: 0.9222\n",
            "Epoch [9/10], Step [900/3125], Loss: 0.8250\n",
            "Epoch [9/10], Step [1000/3125], Loss: 1.0114\n",
            "Epoch [9/10], Step [1100/3125], Loss: 0.6655\n",
            "Epoch [9/10], Step [1200/3125], Loss: 0.7391\n",
            "Epoch [9/10], Step [1300/3125], Loss: 1.1531\n",
            "Epoch [9/10], Step [1400/3125], Loss: 0.4995\n",
            "Epoch [9/10], Step [1500/3125], Loss: 0.6505\n",
            "Epoch [9/10], Step [1600/3125], Loss: 0.9163\n",
            "Epoch [9/10], Step [1700/3125], Loss: 0.6991\n",
            "Epoch [9/10], Step [1800/3125], Loss: 0.8496\n",
            "Epoch [9/10], Step [1900/3125], Loss: 0.6522\n",
            "Epoch [9/10], Step [2000/3125], Loss: 0.2780\n",
            "Epoch [9/10], Step [2100/3125], Loss: 0.9002\n",
            "Epoch [9/10], Step [2200/3125], Loss: 0.6255\n",
            "Epoch [9/10], Step [2300/3125], Loss: 1.2521\n",
            "Epoch [9/10], Step [2400/3125], Loss: 1.5054\n",
            "Epoch [9/10], Step [2500/3125], Loss: 1.2366\n",
            "Epoch [9/10], Step [2600/3125], Loss: 0.9426\n",
            "Epoch [9/10], Step [2700/3125], Loss: 0.6728\n",
            "Epoch [9/10], Step [2800/3125], Loss: 0.4384\n",
            "Epoch [9/10], Step [2900/3125], Loss: 0.8054\n",
            "Epoch [9/10], Step [3000/3125], Loss: 0.7761\n",
            "Epoch [9/10], Step [3100/3125], Loss: 0.8230\n",
            "Epoch [10/10], Step [100/3125], Loss: 0.4692\n",
            "Epoch [10/10], Step [200/3125], Loss: 0.4461\n",
            "Epoch [10/10], Step [300/3125], Loss: 0.2238\n",
            "Epoch [10/10], Step [400/3125], Loss: 1.0261\n",
            "Epoch [10/10], Step [500/3125], Loss: 1.1322\n",
            "Epoch [10/10], Step [600/3125], Loss: 0.7098\n",
            "Epoch [10/10], Step [700/3125], Loss: 0.9247\n",
            "Epoch [10/10], Step [800/3125], Loss: 0.6778\n",
            "Epoch [10/10], Step [900/3125], Loss: 0.8463\n",
            "Epoch [10/10], Step [1000/3125], Loss: 0.3391\n",
            "Epoch [10/10], Step [1100/3125], Loss: 0.6472\n",
            "Epoch [10/10], Step [1200/3125], Loss: 0.6429\n",
            "Epoch [10/10], Step [1300/3125], Loss: 0.4287\n",
            "Epoch [10/10], Step [1400/3125], Loss: 0.6568\n",
            "Epoch [10/10], Step [1500/3125], Loss: 0.7145\n",
            "Epoch [10/10], Step [1600/3125], Loss: 0.8003\n",
            "Epoch [10/10], Step [1700/3125], Loss: 0.5164\n",
            "Epoch [10/10], Step [1800/3125], Loss: 0.7253\n",
            "Epoch [10/10], Step [1900/3125], Loss: 1.3565\n",
            "Epoch [10/10], Step [2000/3125], Loss: 1.2013\n",
            "Epoch [10/10], Step [2100/3125], Loss: 0.7207\n",
            "Epoch [10/10], Step [2200/3125], Loss: 0.8596\n",
            "Epoch [10/10], Step [2300/3125], Loss: 0.7843\n",
            "Epoch [10/10], Step [2400/3125], Loss: 1.2309\n",
            "Epoch [10/10], Step [2500/3125], Loss: 0.7725\n",
            "Epoch [10/10], Step [2600/3125], Loss: 0.5987\n",
            "Epoch [10/10], Step [2700/3125], Loss: 0.7114\n",
            "Epoch [10/10], Step [2800/3125], Loss: 0.7945\n",
            "Epoch [10/10], Step [2900/3125], Loss: 0.4988\n",
            "Epoch [10/10], Step [3000/3125], Loss: 0.2696\n",
            "Epoch [10/10], Step [3100/3125], Loss: 0.3311\n"
          ]
        }
      ]
    },
    {
      "cell_type": "code",
      "metadata": {
        "colab": {
          "base_uri": "https://localhost:8080/"
        },
        "id": "f5h9DCj9ivKP",
        "outputId": "92c6f0bd-38b3-4f33-b41e-312892215fef"
      },
      "source": [
        "\n",
        "model_cnn_cifar.eval()\n",
        "\n",
        "with torch.no_grad():\n",
        "      \n",
        "      correct = 0\n",
        "      \n",
        "      total = 0\n",
        "      \n",
        "      for images, labels in testloader_cifar:#loaders['test']:\n",
        "      \n",
        "          test_output = model_cnn_cifar(images.to(device))\n",
        "      \n",
        "          pred_y = torch.max(test_output, 1)[1].data.squeeze()\n",
        "      \n",
        "         \n",
        "          acc = accuracy_score(pred_y.detach().cpu().numpy(),labels.detach().cpu().numpy())\n",
        "          recall = recall_score(pred_y.detach().cpu().numpy(),labels.detach().cpu().numpy(),average='weighted') \n",
        "          precision = precision_score(pred_y.detach().cpu().numpy(),labels.detach().cpu().numpy(),average='weighted')\n",
        "\n",
        "          #print('acc',acc)\n",
        "          #print('precison', precision)\n",
        "          #print('recall', recall)\n",
        "\n",
        "          acc = np.mean(np.array(acc))\n",
        "          recall = np.mean(np.array(recall))\n",
        "          precision = np.mean(np.array(precision))\n",
        "\n",
        "resultados_eval_cifar.append([acc,precision,recall])"
      ],
      "execution_count": null,
      "outputs": [
        {
          "output_type": "stream",
          "name": "stderr",
          "text": [
            "/usr/local/lib/python3.7/dist-packages/sklearn/metrics/_classification.py:1272: UndefinedMetricWarning: Recall is ill-defined and being set to 0.0 in labels with no true samples. Use `zero_division` parameter to control this behavior.\n",
            "  _warn_prf(average, modifier, msg_start, len(result))\n",
            "/usr/local/lib/python3.7/dist-packages/sklearn/metrics/_classification.py:1272: UndefinedMetricWarning: Precision is ill-defined and being set to 0.0 in labels with no predicted samples. Use `zero_division` parameter to control this behavior.\n",
            "  _warn_prf(average, modifier, msg_start, len(result))\n"
          ]
        }
      ]
    },
    {
      "cell_type": "code",
      "metadata": {
        "colab": {
          "base_uri": "https://localhost:8080/"
        },
        "id": "Z_KulL0ukXLN",
        "outputId": "d11b3f3c-27a6-4203-fc77-6911cf3a5523"
      },
      "source": [
        "resultados_eval_cifar"
      ],
      "execution_count": null,
      "outputs": [
        {
          "output_type": "execute_result",
          "data": {
            "text/plain": [
              "[[0.4243, 0.46241680000000007, 0.4243], [0.6875, 0.71875, 0.6875]]"
            ]
          },
          "metadata": {},
          "execution_count": 69
        }
      ]
    },
    {
      "cell_type": "code",
      "metadata": {
        "id": "7Kb7uqY4mVv0"
      },
      "source": [
        "resultados_eval = pd.DataFrame(resultados_eval_cifar,columns = ['acc','precision','recall'],index = ['NN','CNN'])"
      ],
      "execution_count": null,
      "outputs": []
    },
    {
      "cell_type": "code",
      "metadata": {
        "colab": {
          "base_uri": "https://localhost:8080/",
          "height": 112
        },
        "id": "cRxVPNIrmdYP",
        "outputId": "564ca860-06c7-4f19-ef22-072ea5b16bc1"
      },
      "source": [
        "resultados_eval"
      ],
      "execution_count": null,
      "outputs": [
        {
          "output_type": "execute_result",
          "data": {
            "text/html": [
              "<div>\n",
              "<style scoped>\n",
              "    .dataframe tbody tr th:only-of-type {\n",
              "        vertical-align: middle;\n",
              "    }\n",
              "\n",
              "    .dataframe tbody tr th {\n",
              "        vertical-align: top;\n",
              "    }\n",
              "\n",
              "    .dataframe thead th {\n",
              "        text-align: right;\n",
              "    }\n",
              "</style>\n",
              "<table border=\"1\" class=\"dataframe\">\n",
              "  <thead>\n",
              "    <tr style=\"text-align: right;\">\n",
              "      <th></th>\n",
              "      <th>acc</th>\n",
              "      <th>precision</th>\n",
              "      <th>recall</th>\n",
              "    </tr>\n",
              "  </thead>\n",
              "  <tbody>\n",
              "    <tr>\n",
              "      <th>NN</th>\n",
              "      <td>0.4243</td>\n",
              "      <td>0.462417</td>\n",
              "      <td>0.4243</td>\n",
              "    </tr>\n",
              "    <tr>\n",
              "      <th>CNN</th>\n",
              "      <td>0.6875</td>\n",
              "      <td>0.718750</td>\n",
              "      <td>0.6875</td>\n",
              "    </tr>\n",
              "  </tbody>\n",
              "</table>\n",
              "</div>"
            ],
            "text/plain": [
              "        acc  precision  recall\n",
              "NN   0.4243   0.462417  0.4243\n",
              "CNN  0.6875   0.718750  0.6875"
            ]
          },
          "metadata": {},
          "execution_count": 71
        }
      ]
    },
    {
      "cell_type": "markdown",
      "metadata": {
        "id": "jGuwGGuKmggs"
      },
      "source": [
        "Se puede ver como el modleo de CNN es superior tanto en MNIST como en CIFAR, se entrena con una menor cantidad de epochs y se optinen un mejor resultado.\n",
        "\n",
        "En CIFAR se puede mejorar añadiendo mas capas y modificando algunos hiperparametros, en este dataset se ve como una red neuronal comun queda muy obsoleta en este tipo de aplicaciones."
      ]
    },
    {
      "cell_type": "code",
      "metadata": {
        "id": "ddDZqtLzmeQc"
      },
      "source": [
        ""
      ],
      "execution_count": null,
      "outputs": []
    }
  ]
}